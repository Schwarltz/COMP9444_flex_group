{
  "cells": [
    {
      "cell_type": "markdown",
      "source": [
        "# Image Classification on Imagenette:\n",
        "\n",
        "## Problem Statement\n",
        "\n",
        "_FengYi can you manage this section?_\n",
        "\n",
        "\n",
        "\n"
      ],
      "metadata": {
        "id": "ti6OQMUlzs94"
      }
    },
    {
      "cell_type": "markdown",
      "source": [
        "### Packages\n",
        "\n",
        "We use [livelossplot](https://github.com/stared/livelossplot) to graph our accuracy and loss live."
      ],
      "metadata": {
        "id": "qAN_8z6i0G_F"
      }
    },
    {
      "cell_type": "code",
      "source": [
        "!pip install livelossplot --quiet"
      ],
      "metadata": {
        "id": "2dDmsftWdjyY"
      },
      "execution_count": null,
      "outputs": []
    },
    {
      "cell_type": "code",
      "execution_count": 2,
      "metadata": {
        "id": "h_UtqxCeu2xu"
      },
      "outputs": [],
      "source": [
        "import numpy as np    \n",
        "import matplotlib.pyplot as plt       \n",
        "from torchvision.transforms import transforms\n",
        "from torchvision.datasets import ImageFolder\n",
        "from torch.utils.data import DataLoader\n",
        "import torch\n",
        "import torch.nn as nn\n",
        "import torchvision\n",
        "import torch.nn.functional as F\n",
        "\n",
        "from livelossplot import PlotLosses\n",
        "\n"
      ]
    },
    {
      "cell_type": "markdown",
      "source": [
        "Mounts the drive so that the model can access pretrained models and save the latest ones. "
      ],
      "metadata": {
        "id": "w2qnXojH2Ind"
      }
    },
    {
      "cell_type": "code",
      "source": [
        "from google.colab import drive\n",
        "drive.mount('/content/drive')\n",
        "\n",
        "# Location where the best model is saved\n",
        "path = '/content/drive/MyDrive/Colab Notebooks/best_network.pth'\n",
        "\n",
        "# Alternative path that stores the file in the Colab instance\n",
        "# path = '/content/best_network.pth'\n",
        "\n",
        "# Location of a model you wish to restart from.\n",
        "# 'load_path = None' if you wish to train the model from scratch\n",
        "load_path = None"
      ],
      "metadata": {
        "colab": {
          "base_uri": "https://localhost:8080/"
        },
        "id": "cx4i-oD0OKWP",
        "outputId": "bc227778-0bf3-47f6-da6c-53c1011c8abb"
      },
      "execution_count": 4,
      "outputs": [
        {
          "output_type": "stream",
          "name": "stdout",
          "text": [
            "Drive already mounted at /content/drive; to attempt to forcibly remount, call drive.mount(\"/content/drive\", force_remount=True).\n"
          ]
        }
      ]
    },
    {
      "cell_type": "markdown",
      "source": [
        "## Data Sources\n",
        "\n",
        "We access our data source through fastAI. Link to the repository can be found [here](https://github.com/fastai/imagenette).\n",
        "\n",
        "If you plan on training the network via local files, you will need to change the source to match where you are locally storing the /train and /val files.\n"
      ],
      "metadata": {
        "id": "FRa6DVrZ0r-0"
      }
    },
    {
      "cell_type": "code",
      "source": [
        "# Google Colab\n",
        "from fastai.vision.all import *\n",
        "set_seed(42, reproducible= True)\n",
        "source = untar_data(URLs.IMAGENETTE)"
      ],
      "metadata": {
        "id": "urStGSbE09Ut"
      },
      "execution_count": null,
      "outputs": []
    },
    {
      "cell_type": "markdown",
      "source": [
        "## Exploratory Data Analysis\n",
        "\n",
        "**Data Exploration**\n",
        "\n",
        "\"Provide details about number of classes, few examples, etc. Some data preparation\n",
        "is done, clear what has been done and why, code is clear.\"\n",
        "\n",
        "**Image Preprocessing**\n",
        "\n",
        "_@William you're in charge of this entire section._"
      ],
      "metadata": {
        "id": "iOpApI0K1PUN"
      }
    },
    {
      "cell_type": "code",
      "execution_count": 3,
      "metadata": {
        "id": "3-B1TZyNu2xz"
      },
      "outputs": [],
      "source": [
        "classes = (\"Tench\", \"English Springer\", \"Cassette Player\", \"Chain Saw\", \"Church\", \"French Horn\", \"Garbage Truck\", \"Gas Pump\", \"Golf Ball\", \"Parachute\")\n",
        "\n",
        "#  Image Hyperparameters\n",
        "batch_size = 32\n",
        "width = 224\n",
        "mean = [0.4655, 0.4546, 0.4251]\n",
        "std = [0.2775, 0.2725, 0.2938]\n",
        "\n",
        "def load_data():\n",
        "  train = source/\"train\"\n",
        "  val = source/\"val\"\n",
        "\n",
        "  train_dataset = ImageFolder(\n",
        "    train,\n",
        "    transforms.Compose([\n",
        "        transforms.Resize(280),\n",
        "        transforms.RandomCrop(width), \n",
        "        transforms.RandomHorizontalFlip(),\n",
        "        transforms.ToTensor(),\n",
        "        transforms.Normalize(mean, std),\n",
        "        transforms.RandomErasing()\n",
        "    ]))\n",
        "\n",
        "  val_dataset = ImageFolder(\n",
        "    val,\n",
        "    transforms.Compose([\n",
        "        transforms.Resize(280),\n",
        "        transforms.RandomCrop(width), \n",
        "        transforms.ToTensor(),\n",
        "        transforms.Normalize(mean, std)\n",
        "    ]))\n",
        "\n",
        "  train_dataloader = DataLoader(train_dataset, batch_size, shuffle=True)\n",
        "  val_dataloader = DataLoader(val_dataset, batch_size)\n",
        "  \n",
        "  return train_dataloader, val_dataloader"
      ]
    },
    {
      "cell_type": "markdown",
      "metadata": {
        "id": "F0Y9DMp-u2x0"
      },
      "source": [
        "## Model\n",
        "\n",
        "**Preface**\n",
        "\n",
        "After researching popular neural networks used for image classification, we began our approach to the problem by replicating GoogLeNet and various versions of ResNet such as ResNet34, ResNet50, and ResNet50-d as proposed by He et al. 2019. Our experiment showed that the ResNet models delivered a higher accuracy than GoogLeNet for the ImageNette dataset. We then attempted to boost the accuracy of our model using ResNet as a foundation through various aspects such as modifying the internal architecture to bring in features from other models that we thought might make an improvement, replacing specific features such as the activation function and pooling methods by those proposed in recent papers as better alternatives to the ones originally used, and experimenting with various components in the training cycle such as optimisers and the incorporation of learning rate schedulers. Our final model is a composition of various adjustments that experiments had shown to be successful at increasing the test accuracy on the ImageNette dataset.  \n",
        "\n",
        "**Iterations**\n",
        "\n",
        "Throughout our experimentation, we experimented on different kinds of models and tested each of them based on the highest accuracy it gains after tuning hyperparameters. All iterations can be found in the `models.ipynb` file. Below is our most successful model.\n",
        "\n",
        "**Block Structure**\n",
        "\n",
        "ResNet bottlenecks allow information to be preserved as it passes through the neural network by using shortcut connections that connect the identity of each bottleneck and appends it to the result of a set off convolutions. Our model builds upon this by merging 2 divergent sets of convolutions and the identity into a combined output under the assumption that performing 2 passes on the input would draw out more information compared to using either by themselves. \n",
        "\n",
        "However, doing so comes with their own set of problems.\n",
        "\n",
        "1. Adding _n_ passes increases computation and space required for each block _n_ times. \n",
        "\n",
        "2. Trying to combine completely different convolutions will yield completely divergent results that causes the network to not learn.\n",
        "\n",
        "Hence, we chose to use an inverted residual block from MobileNetV2 to pair with our standard residual block as it performs similarly to a standard residual block but is also more memory efficient. \n"
      ]
    },
    {
      "cell_type": "code",
      "execution_count": 5,
      "metadata": {
        "id": "Cxy6zB8Cu2x1"
      },
      "outputs": [],
      "source": [
        "class block(nn.Module):\n",
        "  def __init__(self, in_channels, out_channels, stride=1, expansion=6, downsample=None):\n",
        "    super(block, self).__init__()\n",
        "    middle_channels = in_channels*expansion\n",
        "\n",
        "    # Residual Block\n",
        "    self.pass1 = nn.Sequential(\n",
        "        nn.Conv2d(in_channels, middle_channels, 1, stride=1, padding=0, bias=False), # pointwise\n",
        "        nn.BatchNorm2d(middle_channels),\n",
        "        nn.Mish(),\n",
        "        nn.Conv2d(middle_channels, middle_channels, 3, stride=stride, padding=1, bias=False), # normal 3x3 convolution\n",
        "        nn.BatchNorm2d(middle_channels),\n",
        "        nn.Mish(),\n",
        "        nn.Conv2d(middle_channels, out_channels, 1, stride=1, padding=0, bias=False), # pointwise\n",
        "        nn.BatchNorm2d(out_channels),\n",
        "        nn.Mish(),\n",
        "    )\n",
        "\n",
        "    # Inverted Residual Block \n",
        "    self.pass2 = nn.Sequential(\n",
        "        nn.Conv2d(in_channels, middle_channels, kernel_size=1, stride=1, padding=0, bias=False), # pointwise\n",
        "        nn.BatchNorm2d(middle_channels),\n",
        "        nn.Mish(),\n",
        "        nn.Conv2d(middle_channels, middle_channels, kernel_size=3, stride=stride, padding=1,groups=in_channels, bias=False), # depth-wise convolution\n",
        "        nn.BatchNorm2d(middle_channels),\n",
        "        nn.Mish(),\n",
        "        nn.Conv2d(middle_channels, out_channels, kernel_size=1, stride=1, bias=False), # pointwise\n",
        "        nn.BatchNorm2d(out_channels),\n",
        "        nn.Mish(),\n",
        "    )\n",
        "\n",
        "    self.downsample = downsample\n",
        "  \n",
        "  def forward(self, x):\n",
        "    identity = x.clone()\n",
        "    x1 = self.pass1(x)\n",
        "    x2 = self.pass2(x)\n",
        "    x = x1 + x2\n",
        "    if self.downsample is not None:\n",
        "      identity = self.downsample(identity)\n",
        "    x += identity\n",
        "    return x"
      ]
    },
    {
      "cell_type": "markdown",
      "source": [
        "**Main Architecture**\n",
        "\n",
        "Our implementation of the neural network builds upon this combined bottleneck and follows MobileNetV2’s architecture as its main structure. To simplify our implementation, we use the same number of intermediate channels for both passes and perform down sampling at the start of every block. Following the paper’s recommendation, we used an expansion rate of 6 for our intermediate channels within the blocks as recommended by (Sandler, Howard, Zhu, Zhmoginov, & Chen). We do not use dropout as experimental results show that it does not bring any major improvement in training accuracy while drastically increasing the training time. In addition, including dropout to all bottleneck convolutions causes our network to fail to learn. After every convolution, we employ batch normalization and use Mish as our activation function.\n",
        "\n",
        "For Reference:\n",
        "\n",
        "\n",
        "| Input        | Operator    | Repeats | Output | n_blocks | Stride |\n",
        "|--------------|-------------|---------|--------|----------|--------|\n",
        "| 224^2 x 3    | conv2d      | -       | 32     | 1        | 2      |\n",
        "| 112^2 x 32   | bottleneck  | 1       | 16     | 1        | 1      |\n",
        "| 112^2 x 16   | bottleneck  | 6       | 24     | 2        | 2      |\n",
        "| 56^2 x 24    | bottleneck  | 6       | 32     | 3        | 2      |\n",
        "| 28^2 x 32    | bottleneck  | 6       | 64     | 4        | 2      |\n",
        "| 14^2 x 64    | bottleneck  | 6       | 96     | 3        | 1      |\n",
        "| 14^2 x 96    | bottleneck  | 6       | 160    | 3        | 2      |\n",
        "| 7^2 x 160    | bottleneck  | 6       | 320    | 1        | 1      |\n",
        "| 7^2 x 320    | conv2d 1x1  | -       | 1280   | 1        | 1      |\n",
        "| 7^2 x 1280   | avgpool 7x7 | -       | -      | 1        | -      |\n",
        "| 1 x 1 x 1280 | conv2d 1x1  | -       | k      | -        |        |\n",
        "\n",
        "\n",
        "Through our experimentations, we found that using Mish, a self-regularized non-monotonic activation function proposed by Misra (2019), outperforms ReLU and ReLU6 by converging significantly faster, a finding in line with the results of the original paper. However, the use of MaxBlurPool as an alternative to MaxPool as suggested by Zhang (2019) demonstrated inconsistent results to the claims made to improve model accuracy in the paper for our dataset, instead showed a decrease in accuracy compared to the original max pool. \n",
        "\n",
        "Dropout is another technique we tried that offered disappointing results, being a regularisation method frequently used to reduce overfitting on neural networks and thus improve accuracy and performance, it increased the training time drastically when incorporated into our network without either reduction in overfitting or improvements in accuracy.  "
      ],
      "metadata": {
        "id": "4NcpjyhLCBWI"
      }
    },
    {
      "cell_type": "code",
      "source": [
        "class Network(nn.Module):\n",
        "  def __init__(self, in_channels=3, num_classes=10):\n",
        "    super(Network, self).__init__()\n",
        "\n",
        "    # Structure follows MobileNetV2 block structure\n",
        "    self.conv1 = nn.Conv2d(in_channels, 32, kernel_size=7, stride=2, padding=3, bias=False)\n",
        "    self.bn1 = nn.BatchNorm2d(32)\n",
        "    self.mish = nn.Mish()\n",
        "\n",
        "    self.block1 = self._make_layer(block, 1, 32, 16, 1, 1)\n",
        "    self.block2 = self._make_layer(block, 6, 16, 24, 2, 2)\n",
        "    self.block3 = self._make_layer(block, 6, 24, 32, 3, 2)\n",
        "    self.block4 = self._make_layer(block, 6, 32, 64, 4, 2)\n",
        "    self.block5 = self._make_layer(block, 6, 64, 96, 3, 1)\n",
        "    self.block6 = self._make_layer(block, 6, 96, 160, 3, 2)\n",
        "    self.block7 = self._make_layer(block, 6, 160, 320, 1, 1)\n",
        "    \n",
        "    self.conv2 = nn.Conv2d(320,1280, kernel_size=3, stride=1, padding=1, bias=False)\n",
        "    self.bn2 = nn.BatchNorm2d(1280)\n",
        "    self.avgPool = nn.AvgPool2d(7)\n",
        "    self.flatten = nn.Flatten()\n",
        "    self.fc = nn.Linear(1280, num_classes)\n",
        "\n",
        "  def forward(self, x):\n",
        "    x = self.conv1(x)\n",
        "    x = self.bn1(x)\n",
        "    x = self.mish(x)\n",
        "    x = self.block1(x)\n",
        "    x = self.block2(x)\n",
        "    x = self.block3(x)\n",
        "    x = self.block4(x)\n",
        "    x = self.block5(x)\n",
        "    x = self.block6(x)\n",
        "    x = self.block7(x)\n",
        "    x = self.conv2(x)\n",
        "    x = self.bn2(x)\n",
        "    x = self.mish(x)\n",
        "    x = self.avgPool(x)\n",
        "    x = self.flatten(x)\n",
        "    x = self.fc(x)\n",
        "    x = F.log_softmax(x, dim=1)\n",
        "    \n",
        "    return x\n",
        "  \n",
        "  def _make_layer(self, block, expansion, in_channels, out_channels, repeats, stride):\n",
        "    layers = []\n",
        "    downsample = None\n",
        "\n",
        "    # We downsample when there is a mismatch between the dimensions of the input and output\n",
        "    if stride != 1 or in_channels != out_channels:\n",
        "      downsample = nn.Sequential(\n",
        "          nn.Conv2d(in_channels,out_channels,kernel_size=1,stride=stride, bias=False),\n",
        "          nn.BatchNorm2d(out_channels),\n",
        "      )\n",
        "\n",
        "    # Downsampling occurs only in the first block of each layer\n",
        "    layers.append(\n",
        "        block(in_channels, out_channels, stride, expansion, downsample)\n",
        "    )\n",
        "\n",
        "    # Append n-1 additional blocks to the layer\n",
        "    for _ in range(repeats-1):\n",
        "      layers.append(\n",
        "          block(out_channels, out_channels, 1, expansion)\n",
        "      )\n",
        "    \n",
        "    return nn.Sequential(*layers)\n",
        "\n",
        "\n",
        "model = Network()\n",
        "\n",
        "if load_path is not None:\n",
        "  model.load_state_dict(torch.load(load_path))"
      ],
      "metadata": {
        "id": "pIohB93UB83T"
      },
      "execution_count": null,
      "outputs": []
    },
    {
      "cell_type": "markdown",
      "metadata": {
        "id": "xSNynAhFu2x2"
      },
      "source": [
        "## Main Training Loop\n",
        "\n",
        "For our main loop, to calculate loss we used Cross Entropy Loss and for our optimizer we found that using Adam with an initial learning rate of 0.00024 and weight decay of 0.00001 outperforms SGD as recommended by (He, Zhang, Ren, & Sun, 2015) since it allows our model to initially converge faster. We used a mini-batch size of 32 as experimentation between 32, 64, 96, and 128 shows that while the time taken to train each epoch is inversely proportional to the batch size, it also causes our model to overfit earlier. Tests were also conducted to see if applying a learning rate scheduler improved our accuracy and we settled on using a cosine annealing schedule with T_max set to 10.\n",
        "\n",
        "The use of a learning rate scheduler greatly reduced the number of epochs required to reach a test accuracy of 80%, upon comparison we settled with the cosine annealing scheduler. \n",
        "\n"
      ]
    },
    {
      "cell_type": "code",
      "execution_count": 7,
      "metadata": {
        "id": "lI8I5GzNu2x3"
      },
      "outputs": [],
      "source": [
        "from torch.autograd import Variable\n",
        "from torch.optim import Adam, SGD, lr_scheduler\n",
        "\n",
        "# Function to save the model\n",
        "def saveModel():\n",
        "    torch.save(model.state_dict(), path)\n",
        "\n",
        "# Function to test the model with the test dataset and print the accuracy for the test images\n",
        "def testAccuracy(device):\n",
        "    model.eval()\n",
        "    accuracy = 0.0\n",
        "    total = 0.0\n",
        "\n",
        "    running_loss = 0.0\n",
        "    running_corrects = 0\n",
        "    \n",
        "    with torch.no_grad():\n",
        "        for data in test_loader:\n",
        "            images, labels = data\n",
        "            images = Variable(images.to(device))\n",
        "            labels = Variable(labels.to(device))\n",
        "\n",
        "            # run the model on the test set to predict labels\n",
        "            outputs = model(images)\n",
        "\n",
        "            # the label with the highest energy will be our prediction\n",
        "            _, predicted = torch.max(outputs.data, 1)\n",
        "            total += labels.size(0)\n",
        "            accuracy += (predicted == labels).sum().item()\n",
        "\n",
        "    # compute the accuracy over all validation images\n",
        "    accuracy = (100 * accuracy / total)\n",
        "    return(accuracy)\n",
        "\n",
        "def trainAccuracy(device):\n",
        "\n",
        "    model.eval()\n",
        "    accuracy = 0.0\n",
        "    total = 0.0\n",
        "    \n",
        "    with torch.no_grad():\n",
        "        for data in train_loader:\n",
        "            images, labels = data\n",
        "            images = Variable(images.to(device))\n",
        "            labels = Variable(labels.to(device))\n",
        "\n",
        "            # run the model on the test set to predict labels\n",
        "            outputs = model(images)\n",
        "\n",
        "            # the label with the highest energy will be our prediction\n",
        "            _, predicted = torch.max(outputs.data, 1)\n",
        "            total += labels.size(0)\n",
        "            accuracy += (predicted == labels).sum().item()\n",
        "    \n",
        "    # compute the accuracy over all training images\n",
        "    accuracy = (100 * accuracy / total)\n",
        "    return(accuracy)\n",
        "\n",
        "def train(num_epochs):\n",
        "    \n",
        "    best_accuracy = 0.0\n",
        "\n",
        "    # Define your execution device\n",
        "    device = torch.device(\"cuda:0\" if torch.cuda.is_available() else \"cpu\")\n",
        "    print(\"The model will be running on\", device, \"device\")\n",
        "    \n",
        "    # Stores and generates plots\n",
        "    liveloss = PlotLosses()\n",
        "\n",
        "    # Convert model parameters and buffers to CPU or Cuda\n",
        "    model.to(device)\n",
        "    model.train()\n",
        "\n",
        "    # Define the loss function with Classification Cross-Entropy loss and an optimizer with Adam optimizer\n",
        "    loss_fn = nn.CrossEntropyLoss()\n",
        "    optimizer = Adam(model.parameters(), lr=0.00024, weight_decay = 0.00001)\n",
        "    scheduler = lr_scheduler.CosineAnnealingLR(optimizer, T_max=10, eta_min=0)\n",
        "    all_accuracy = []\n",
        "\n",
        "    for epoch in range(num_epochs):  # loop over the dataset multiple times\n",
        "        running_loss = 0.0\n",
        "        \n",
        "        r_loss = 0.0\n",
        "        r_correct = 0\n",
        "\n",
        "        model.train()\n",
        "        logs = {}\n",
        "        for i, (images, labels) in enumerate(train_loader, 0):\n",
        "            # get the inputs\n",
        "            images = Variable(images.to(device))\n",
        "            labels = Variable(labels.to(device))\n",
        "\n",
        "            # zero the parameter gradients\n",
        "            optimizer.zero_grad()\n",
        "            # predict classes using images from the training set\n",
        "            outputs = model(images)\n",
        "            # compute the loss based on model output and real labels\n",
        "            loss = loss_fn(outputs, labels)\n",
        "            # backpropagate the loss\n",
        "            loss.backward()\n",
        "            # adjust parameters based on the calculated gradients\n",
        "            optimizer.step()\n",
        "\n",
        "            running_loss += loss.item()     # extract the loss value\n",
        "            r_loss += loss.detach() * images.size(0)\n",
        "\n",
        "            # Print loss statistics every 10 batches\n",
        "            if i % 10 == 10: # 10 means off\n",
        "                print('[%d, %5d] loss: %.8f' %\n",
        "                      (epoch + 1, i + 1, running_loss / 1000))\n",
        "                # zero the loss\n",
        "                running_loss = 0.0\n",
        "\n",
        "        # Compute and print the average accuracy for this epoch when tested over all test images\n",
        "        model.eval()\n",
        "        accuracy = testAccuracy(device)\n",
        "        train_accuracy = trainAccuracy(device)\n",
        "        all_accuracy.append(accuracy)\n",
        "\n",
        "        # Update the table\n",
        "        logs['log loss'] = (r_loss / 9469).item()\n",
        "        logs['val_'+ 'accuracy'] = accuracy\n",
        "        logs['accuracy'] =  train_accuracy\n",
        "\n",
        "        liveloss.update(logs)\n",
        "        liveloss.send()\n",
        "\n",
        "        print('For epoch', epoch+1,'the train accuracy is %d %%' % (train_accuracy), 'the test accuracy over the whole test set is %d %%' % (accuracy))\n",
        "        \n",
        "        # Saves the model if the accuracy is the better than the current\n",
        "        if accuracy > best_accuracy:\n",
        "            saveModel()\n",
        "            best_accuracy = accuracy\n",
        "\n",
        "        # Iterate the scheduler\n",
        "        scheduler.step()\n",
        "\n",
        "    print('The average accuracy over %d' % num_epochs, ' runs is %.2f' % (sum(all_accuracy)/num_epochs))"
      ]
    },
    {
      "cell_type": "markdown",
      "metadata": {
        "id": "EZXKn5Vau2x4"
      },
      "source": [
        "### Showing Images"
      ]
    },
    {
      "cell_type": "code",
      "execution_count": 8,
      "metadata": {
        "id": "Jhu6-ZnBu2x5"
      },
      "outputs": [],
      "source": [
        "# Function to show the images\n",
        "def imageshow(img):\n",
        "    img = img / 2 + 0.5     # unnormalize\n",
        "    if torch.cuda.is_available():\n",
        "      npimg = img.cpu().numpy()\n",
        "    else:\n",
        "      npimg = img.numpy()\n",
        "    plt.imshow(np.transpose(npimg, (1, 2, 0)))\n",
        "    plt.show()"
      ]
    },
    {
      "cell_type": "code",
      "execution_count": 9,
      "metadata": {
        "id": "OpCcP0yCu2x5"
      },
      "outputs": [],
      "source": [
        "def checkTransformedImages():\n",
        "    # get batch of images from the test DataLoader\n",
        "    images, labels = next(iter(test_loader))\n",
        "    if torch.cuda.is_available():\n",
        "      images = images.cuda()\n",
        "      labels = labels.cuda()\n",
        "\n",
        "    # show all images as one image grid\n",
        "    imageshow(torchvision.utils.make_grid(images))"
      ]
    },
    {
      "cell_type": "markdown",
      "metadata": {
        "id": "opk11Quiu2x6"
      },
      "source": [
        "## Results\n",
        "\n",
        "Running the network, we can view its results in the cell output below."
      ]
    },
    {
      "cell_type": "code",
      "execution_count": 10,
      "metadata": {
        "colab": {
          "base_uri": "https://localhost:8080/",
          "height": 714
        },
        "id": "xzGEHXM6u2x6",
        "outputId": "eb78c552-e297-41f8-b3db-cd0d51c41f8e"
      },
      "outputs": [
        {
          "output_type": "display_data",
          "data": {
            "text/plain": [
              "<Figure size 864x576 with 2 Axes>"
            ],
            "image/png": "[encoded data removed]"
          },
          "metadata": {
            "needs_background": "light"
          }
        },
        {
          "output_type": "stream",
          "name": "stdout",
          "text": [
            "accuracy\n",
            "\tvalidation       \t (min:   46.293, max:   90.115, cur:   86.217)\n",
            "\ttraining         \t (min:   46.552, max:   98.173, cur:   93.347)\n",
            "log loss\n",
            "\tlog loss         \t (min:    0.086, max:    1.778, cur:    0.221)\n",
            "For epoch 120 the train accuracy is 93 % the test accuracy over the whole test set is 86 %\n",
            "The average accuracy over 120  runs is 84.19\n"
          ]
        }
      ],
      "source": [
        "train_loader, test_loader = load_data()\n",
        "\n",
        "num_epochs = 120\n",
        "train(num_epochs)\n",
        "\n",
        "# checkTransformedImages()"
      ]
    },
    {
      "cell_type": "markdown",
      "source": [
        "## Class accuracy\n",
        "\n",
        "Calculate the class accuracy of our best model. The function comes from [here](https://pytorch.org/tutorials/beginner/blitz/cifar10_tutorial.html)."
      ],
      "metadata": {
        "id": "kXPMdBhsGdxc"
      }
    },
    {
      "cell_type": "code",
      "source": [
        "def class_accuracy():\n",
        "  # load the best model\n",
        "  model.load_state_dict(torch.load(path))\n",
        "\n",
        "  train_loader, test_loader = load_data()\n",
        "  device = torch.device(\"cuda:0\" if torch.cuda.is_available() else \"cpu\")\n",
        "  model.to(device)\n",
        "  model.eval()\n",
        "  # prepare to count predictions for each class\n",
        "  correct_pred = {classname: 0 for classname in classes}\n",
        "  total_pred = {classname: 0 for classname in classes}\n",
        "\n",
        "  # again no gradients needed\n",
        "  with torch.no_grad():\n",
        "      for data in test_loader:\n",
        "          images, labels = data\n",
        "          images = Variable(images.to(device))\n",
        "          labels = Variable(labels.to(device))\n",
        "          outputs = model(images)\n",
        "          _, predictions = torch.max(outputs, 1)\n",
        "          # collect the correct predictions for each class\n",
        "          for label, prediction in zip(labels, predictions):\n",
        "              if label == prediction:\n",
        "                  correct_pred[classes[label]] += 1\n",
        "              total_pred[classes[label]] += 1\n",
        "\n",
        "\n",
        "  # print accuracy for each class\n",
        "  for classname, correct_count in correct_pred.items():\n",
        "      accuracy = 100 * float(correct_count) / total_pred[classname]\n",
        "      print(f'Accuracy for class: {classname:5s} is {accuracy:.1f} %')\n",
        "\n",
        "class_accuracy()"
      ],
      "metadata": {
        "id": "AnfuilM5PJzN",
        "colab": {
          "base_uri": "https://localhost:8080/",
          "height": 362
        },
        "outputId": "82fdab28-86b3-4881-9060-e196cea6292d"
      },
      "execution_count": 11,
      "outputs": [
        {
          "output_type": "error",
          "ename": "RuntimeError",
          "evalue": "ignored",
          "traceback": [
            "\u001b[0;31m---------------------------------------------------------------------------\u001b[0m",
            "\u001b[0;31mRuntimeError\u001b[0m                              Traceback (most recent call last)",
            "\u001b[0;32m<ipython-input-11-125935e671ae>\u001b[0m in \u001b[0;36m<module>\u001b[0;34m\u001b[0m\n\u001b[1;32m     35\u001b[0m       \u001b[0mprint\u001b[0m\u001b[0;34m(\u001b[0m\u001b[0;34mf'Accuracy for class: {classname:5s} is {accuracy:.1f} %'\u001b[0m\u001b[0;34m)\u001b[0m\u001b[0;34m\u001b[0m\u001b[0;34m\u001b[0m\u001b[0m\n\u001b[1;32m     36\u001b[0m \u001b[0;34m\u001b[0m\u001b[0m\n\u001b[0;32m---> 37\u001b[0;31m \u001b[0mclass_accuracy\u001b[0m\u001b[0;34m(\u001b[0m\u001b[0;34m)\u001b[0m\u001b[0;34m\u001b[0m\u001b[0;34m\u001b[0m\u001b[0m\n\u001b[0m",
            "\u001b[0;32m<ipython-input-11-125935e671ae>\u001b[0m in \u001b[0;36mclass_accuracy\u001b[0;34m()\u001b[0m\n\u001b[1;32m      5\u001b[0m   \u001b[0;31m# load the best model\u001b[0m\u001b[0;34m\u001b[0m\u001b[0;34m\u001b[0m\u001b[0;34m\u001b[0m\u001b[0m\n\u001b[1;32m      6\u001b[0m   \u001b[0mpath\u001b[0m \u001b[0;34m=\u001b[0m \u001b[0;34m'/content/drive/MyDrive/Colab Notebooks/mix2 1-120 98-90.pth'\u001b[0m\u001b[0;34m\u001b[0m\u001b[0;34m\u001b[0m\u001b[0m\n\u001b[0;32m----> 7\u001b[0;31m   \u001b[0mmodel\u001b[0m\u001b[0;34m.\u001b[0m\u001b[0mload_state_dict\u001b[0m\u001b[0;34m(\u001b[0m\u001b[0mtorch\u001b[0m\u001b[0;34m.\u001b[0m\u001b[0mload\u001b[0m\u001b[0;34m(\u001b[0m\u001b[0mpath\u001b[0m\u001b[0;34m)\u001b[0m\u001b[0;34m)\u001b[0m\u001b[0;34m\u001b[0m\u001b[0;34m\u001b[0m\u001b[0m\n\u001b[0m\u001b[1;32m      8\u001b[0m \u001b[0;34m\u001b[0m\u001b[0m\n\u001b[1;32m      9\u001b[0m   \u001b[0mtrain_loader\u001b[0m\u001b[0;34m,\u001b[0m \u001b[0mtest_loader\u001b[0m \u001b[0;34m=\u001b[0m \u001b[0mload_data\u001b[0m\u001b[0;34m(\u001b[0m\u001b[0;34m)\u001b[0m\u001b[0;34m\u001b[0m\u001b[0;34m\u001b[0m\u001b[0m\n",
            "\u001b[0;32m/usr/local/lib/python3.7/dist-packages/torch/serialization.py\u001b[0m in \u001b[0;36mload\u001b[0;34m(f, map_location, pickle_module, **pickle_load_args)\u001b[0m\n\u001b[1;32m    703\u001b[0m             \u001b[0;31m# reset back to the original position.\u001b[0m\u001b[0;34m\u001b[0m\u001b[0;34m\u001b[0m\u001b[0;34m\u001b[0m\u001b[0m\n\u001b[1;32m    704\u001b[0m             \u001b[0morig_position\u001b[0m \u001b[0;34m=\u001b[0m \u001b[0mopened_file\u001b[0m\u001b[0;34m.\u001b[0m\u001b[0mtell\u001b[0m\u001b[0;34m(\u001b[0m\u001b[0;34m)\u001b[0m\u001b[0;34m\u001b[0m\u001b[0;34m\u001b[0m\u001b[0m\n\u001b[0;32m--> 705\u001b[0;31m             \u001b[0;32mwith\u001b[0m \u001b[0m_open_zipfile_reader\u001b[0m\u001b[0;34m(\u001b[0m\u001b[0mopened_file\u001b[0m\u001b[0;34m)\u001b[0m \u001b[0;32mas\u001b[0m \u001b[0mopened_zipfile\u001b[0m\u001b[0;34m:\u001b[0m\u001b[0;34m\u001b[0m\u001b[0;34m\u001b[0m\u001b[0m\n\u001b[0m\u001b[1;32m    706\u001b[0m                 \u001b[0;32mif\u001b[0m \u001b[0m_is_torchscript_zip\u001b[0m\u001b[0;34m(\u001b[0m\u001b[0mopened_zipfile\u001b[0m\u001b[0;34m)\u001b[0m\u001b[0;34m:\u001b[0m\u001b[0;34m\u001b[0m\u001b[0;34m\u001b[0m\u001b[0m\n\u001b[1;32m    707\u001b[0m                     warnings.warn(\"'torch.load' received a zip file that looks like a TorchScript archive\"\n",
            "\u001b[0;32m/usr/local/lib/python3.7/dist-packages/torch/serialization.py\u001b[0m in \u001b[0;36m__init__\u001b[0;34m(self, name_or_buffer)\u001b[0m\n\u001b[1;32m    240\u001b[0m \u001b[0;32mclass\u001b[0m \u001b[0m_open_zipfile_reader\u001b[0m\u001b[0;34m(\u001b[0m\u001b[0m_opener\u001b[0m\u001b[0;34m)\u001b[0m\u001b[0;34m:\u001b[0m\u001b[0;34m\u001b[0m\u001b[0;34m\u001b[0m\u001b[0m\n\u001b[1;32m    241\u001b[0m     \u001b[0;32mdef\u001b[0m \u001b[0m__init__\u001b[0m\u001b[0;34m(\u001b[0m\u001b[0mself\u001b[0m\u001b[0;34m,\u001b[0m \u001b[0mname_or_buffer\u001b[0m\u001b[0;34m)\u001b[0m \u001b[0;34m->\u001b[0m \u001b[0;32mNone\u001b[0m\u001b[0;34m:\u001b[0m\u001b[0;34m\u001b[0m\u001b[0;34m\u001b[0m\u001b[0m\n\u001b[0;32m--> 242\u001b[0;31m         \u001b[0msuper\u001b[0m\u001b[0;34m(\u001b[0m\u001b[0m_open_zipfile_reader\u001b[0m\u001b[0;34m,\u001b[0m \u001b[0mself\u001b[0m\u001b[0;34m)\u001b[0m\u001b[0;34m.\u001b[0m\u001b[0m__init__\u001b[0m\u001b[0;34m(\u001b[0m\u001b[0mtorch\u001b[0m\u001b[0;34m.\u001b[0m\u001b[0m_C\u001b[0m\u001b[0;34m.\u001b[0m\u001b[0mPyTorchFileReader\u001b[0m\u001b[0;34m(\u001b[0m\u001b[0mname_or_buffer\u001b[0m\u001b[0;34m)\u001b[0m\u001b[0;34m)\u001b[0m\u001b[0;34m\u001b[0m\u001b[0;34m\u001b[0m\u001b[0m\n\u001b[0m\u001b[1;32m    243\u001b[0m \u001b[0;34m\u001b[0m\u001b[0m\n\u001b[1;32m    244\u001b[0m \u001b[0;34m\u001b[0m\u001b[0m\n",
            "\u001b[0;31mRuntimeError\u001b[0m: PytorchStreamReader failed reading zip archive: failed finding central directory"
          ]
        }
      ]
    },
    {
      "cell_type": "markdown",
      "source": [
        "## Results\n",
        "\n",
        "| Class Accuracy   | Modified MobileNetV2 | Raw Resnet50 |\n",
        "| ---------------- | -------------------- | ------------ |\n",
        "| Tench            | 93.5 %               | 93.0 %       |\n",
        "| English Springer | 93.4 %               | 95.9 %       |\n",
        "| Cassette Player  | 89.9 %               | 81.2 %       |\n",
        "| Chain Saw        | 79.5 %               | 74.4 %       |\n",
        "| Church           | 91.7 %               | 90.2 %       |\n",
        "| French Horn      | 86.3 %               | 91.9 %       |\n",
        "| Garbage Truck    | 91.3 %               | 89.5 %       |\n",
        "| Gas Pump         | 80.4 %               | 77.8 %       |\n",
        "| Golf Ball        | 90.0 %               | 84.7 %       |\n",
        "| Parachute        | 91.0 %               | 89.7 %       |\n",
        "| Overall          | 89 %                 | 87%          |"
      ],
      "metadata": {
        "id": "9A8Ajq1vJYu3"
      }
    },
    {
      "cell_type": "markdown",
      "source": [
        "## Discussion\n",
        "\n",
        "1.  **Merging features from different models can bring more insights on new model architecture.**\n",
        "\n",
        "Based on the experimental results in Table 1. It is found that the modified MobileNetV2 generally outperforms the ResNet50 except for two classes which are “English Springer” and “French Horn”. This implies that combining the Resent residual block with the MobileNetV2 residual block slightly improves accuracy. As we did not use any pre-trained models, the outcome is believed to be unbiased.  \n",
        "\n",
        "2. **The size and purity of the training dataset can have an impact on the accuracy.** \n",
        "\n",
        "As shown in Table 1, the Raw Resnet50 only achieves an 87 % accuracy. However, according to an online database (Meta AI), Resnet50 should have the ability to achieve an accuracy above 95% for the ImageNet dataset. The underperforming reason is suspected to be the insufficient dataset size, as the dataset we used is only a subset of ImageNet. Also, it is found that the training dataset contains about 5% noisy data, which is considered as a major factor in lower accuracy. The presence of the noisy data increases the model complexity and time of learning which degrades the performance of learning algorithms. \n",
        "\n",
        "3. **Dropout layers do not necessarily improve the model performance.** \n",
        "\n",
        "Although it is mentioned in numerous pieces of literature that dropout regularization is a generic approach to improve the accuracy by reducing overfitting features. However, it is not the case in our experiment. \n",
        "\n",
        "It is suspected that batch normalization in our implementation already has a regularizing effect (Ioffe & Szegedy, 2015). Literature also suggests that partial dropout can be harmful in CNN because the spatial relationships encoded in feature maps and activations can be highly correlated, (Jansma, 2022). The comparison of dropouts with different probabilities and batch normalization is shown in Figure 1. \n",
        "\n",
        "4. **Fine-tuning hyperparameters is essential to achieve a high accuracy.**  \n",
        "\n",
        "During our experiment, we tried to run ResNet50 with a consistent 0.001 learning rate. It is found that the accuracy could only barely reach 80%. However, after we implemented the CosineAnnealingLR scheduler, the accuracy went up to 87%. This outcome matches the results from another research study (Peng & Wang, 2012).  "
      ],
      "metadata": {
        "id": "ADHw3xVKKCE8"
      }
    },
    {
      "cell_type": "markdown",
      "source": [
        "## Conclusion\n",
        "\n",
        "_Fengyi or someone else write this as well_"
      ],
      "metadata": {
        "id": "N4vq2u3FKVB7"
      }
    },
    {
      "cell_type": "markdown",
      "source": [
        "## Bibliography/Data Sources\n",
        "\n",
        "He, K., Zhang, X., Ren, S., & Sun, J. (2015). Deep Residual Learning for Image Recognition. Microsoft Research. \n",
        "\n",
        "Ioffe, S., & Szegedy, C. (2015). Batch Normalization: Accelerating Deep Network Training by Reducing Internal Covariate Shift. Google Inc. \n",
        "\n",
        "Jansma, H. (2022, August 23). Don’t Use Dropout in Convolutional Networks. Retrieved from KDnuggets: https://www.kdnuggets.com/2018/09/dropout-convolutional-networks.html \n",
        "\n",
        "Meta AI. (n.d.). Image Classification on ImageNet. Retrieved from https://paperswithcode.com/sota/image-classification-on-imagenet?metric=Top%205%20Accuracy&tag_filter=3 \n",
        "\n",
        "Peng, P., & Wang, J. (2012). How to fine-tune deep neural networks in few-shot learning? Hangzhou: Zhejiang University. \n",
        "\n",
        "Sandler, M., Howard, A., Zhu, M., Zhmoginov, A., & Chen, L.-C. (n.d.). MobileNetV2: Inverted Residuals and Linear Bottlenecks. Google Inc. "
      ],
      "metadata": {
        "id": "8l5AnyrjLdA3"
      }
    },
    {
      "cell_type": "markdown",
      "source": [
        "## Appendix\n",
        "\n",
        "[Raw Results From Experimentation](https://docs.google.com/document/d/1VH5TaP6iL8CWjEFiAHPcl2VOgWTknwL8fDhfYtvaaAQ/edit?usp=sharing)"
      ],
      "metadata": {
        "id": "md6uZCI6Lg4z"
      }
    }
  ],
  "metadata": {
    "language_info": {
      "name": "python"
    },
    "orig_nbformat": 4,
    "colab": {
      "name": "Submission Notebook.ipynb",
      "provenance": [],
      "collapsed_sections": []
    },
    "kernelspec": {
      "name": "python3",
      "display_name": "Python 3"
    },
    "gpuClass": "standard",
    "accelerator": "GPU"
  },
  "nbformat": 4,
  "nbformat_minor": 0
}