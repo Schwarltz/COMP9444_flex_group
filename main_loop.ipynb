{
  "cells": [
    {
      "cell_type": "markdown",
      "metadata": {
        "id": "ti6OQMUlzs94"
      },
      "source": [
        "# Image Classification on Imagenette:\n",
        "\n",
        "## Problem Statement\n",
        "\n",
        "_FengYi can you manage this section?_\n",
        "\n",
        "\n",
        "\n"
      ]
    },
    {
      "cell_type": "markdown",
      "metadata": {
        "id": "qAN_8z6i0G_F"
      },
      "source": [
        "### Packages\n",
        "\n",
        "We use [livelossplot](https://github.com/stared/livelossplot) to graph our accuracy and loss live."
      ]
    },
    {
      "cell_type": "code",
      "execution_count": null,
      "metadata": {
        "id": "2dDmsftWdjyY"
      },
      "outputs": [],
      "source": [
        "!pip install livelossplot --quiet"
      ]
    },
    {
      "cell_type": "code",
      "execution_count": 2,
      "metadata": {
        "id": "h_UtqxCeu2xu"
      },
      "outputs": [],
      "source": [
        "import numpy as np    \n",
        "import matplotlib.pyplot as plt       \n",
        "from torchvision.transforms import transforms\n",
        "from torchvision.datasets import ImageFolder\n",
        "from torch.utils.data import DataLoader\n",
        "import torch\n",
        "import torch.nn as nn\n",
        "import torchvision\n",
        "import torch.nn.functional as F\n",
        "\n",
        "from livelossplot import PlotLosses\n",
        "\n"
      ]
    },
    {
      "cell_type": "markdown",
      "metadata": {
        "id": "w2qnXojH2Ind"
      },
      "source": [
        "Mounts the drive so that the model can access pretrained models and save the latest ones. "
      ]
    },
    {
      "cell_type": "code",
      "execution_count": 4,
      "metadata": {
        "colab": {
          "base_uri": "https://localhost:8080/"
        },
        "id": "cx4i-oD0OKWP",
        "outputId": "bc227778-0bf3-47f6-da6c-53c1011c8abb"
      },
      "outputs": [
        {
          "name": "stdout",
          "output_type": "stream",
          "text": [
            "Drive already mounted at /content/drive; to attempt to forcibly remount, call drive.mount(\"/content/drive\", force_remount=True).\n"
          ]
        }
      ],
      "source": [
        "from google.colab import drive\n",
        "drive.mount('/content/drive')\n",
        "\n",
        "# Location where the best model is saved\n",
        "path = '/content/drive/MyDrive/Colab Notebooks/best_network.pth'\n",
        "\n",
        "# Alternative path that stores the file in the Colab instance\n",
        "# path = '/content/best_network.pth'\n",
        "\n",
        "# Location of a model you wish to restart from.\n",
        "# 'load_path = None' if you wish to train the model from scratch\n",
        "load_path = None"
      ]
    },
    {
      "cell_type": "markdown",
      "metadata": {
        "id": "FRa6DVrZ0r-0"
      },
      "source": [
        "## Data Sources\n",
        "\n",
        "We access our data source through fastAI. Link to the repository can be found [here](https://github.com/fastai/imagenette).\n",
        "\n",
        "If you plan on training the network via local files, you will need to change the source to match where you are locally storing the /train and /val files.\n"
      ]
    },
    {
      "cell_type": "code",
      "execution_count": null,
      "metadata": {
        "id": "urStGSbE09Ut"
      },
      "outputs": [],
      "source": [
        "# Google Colab\n",
        "from fastai.vision.all import *\n",
        "set_seed(42, reproducible= True)\n",
        "source = untar_data(URLs.IMAGENETTE)"
      ]
    },
    {
      "cell_type": "markdown",
      "metadata": {
        "id": "iOpApI0K1PUN"
      },
      "source": [
        "## Exploratory Data Analysis\n",
        "\n",
        "**Data Exploration**\n",
        "\n",
        "\"Provide details about number of classes, few examples, etc. Some data preparation\n",
        "is done, clear what has been done and why, code is clear.\"\n",
        "\n",
        "**Image Preprocessing**\n",
        "\n",
        "_@William you're in charge of this entire section._"
      ]
    },
    {
      "cell_type": "code",
      "execution_count": 3,
      "metadata": {
        "id": "3-B1TZyNu2xz"
      },
      "outputs": [],
      "source": [
        "classes = (\"Tench\", \"English Springer\", \"Cassette Player\", \"Chain Saw\", \"Church\", \"French Horn\", \"Garbage Truck\", \"Gas Pump\", \"Golf Ball\", \"Parachute\")\n",
        "\n",
        "#  Image Hyperparameters\n",
        "batch_size = 32\n",
        "width = 224\n",
        "mean = [0.4655, 0.4546, 0.4251]\n",
        "std = [0.2775, 0.2725, 0.2938]\n",
        "\n",
        "def load_data():\n",
        "  train = source/\"train\"\n",
        "  val = source/\"val\"\n",
        "\n",
        "  train_dataset = ImageFolder(\n",
        "    train,\n",
        "    transforms.Compose([\n",
        "        transforms.Resize(280),\n",
        "        transforms.RandomCrop(width), \n",
        "        transforms.RandomHorizontalFlip(),\n",
        "        transforms.ToTensor(),\n",
        "        transforms.Normalize(mean, std),\n",
        "        transforms.RandomErasing()\n",
        "    ]))\n",
        "\n",
        "  val_dataset = ImageFolder(\n",
        "    val,\n",
        "    transforms.Compose([\n",
        "        transforms.Resize(280),\n",
        "        transforms.RandomCrop(width), \n",
        "        transforms.ToTensor(),\n",
        "        transforms.Normalize(mean, std)\n",
        "    ]))\n",
        "\n",
        "  train_dataloader = DataLoader(train_dataset, batch_size, shuffle=True)\n",
        "  val_dataloader = DataLoader(val_dataset, batch_size)\n",
        "  \n",
        "  return train_dataloader, val_dataloader"
      ]
    },
    {
      "cell_type": "markdown",
      "metadata": {
        "id": "F0Y9DMp-u2x0"
      },
      "source": [
        "## Model\n",
        "\n",
        "**Block Structure**\n",
        "\n",
        "ResNet bottlenecks allow information to be preserved as it passes through the neural network by using shortcut connections that connect the identity of each bottleneck and appends it to the result of a set off convolutions. Our model builds upon this by merging 2 divergent sets of convolutions and the identity into a combined output under the assumption that performing 2 passes on the input would draw out more information compared to using either by themselves. \n",
        "\n",
        "However, doing so doubles the computation power and space required for each block, making it harder to scale. In addition, the blocks must contrast from each other enough such that the network avoid overemphasizing the weights over the identity. Hence, we chose to use an inverted residual block from MobileNetV2 to pair with our standard residual block as it performs similarly to a standard residual block but is also more memory efficient. \n"
      ]
    },
    {
      "cell_type": "code",
      "execution_count": 5,
      "metadata": {
        "id": "Cxy6zB8Cu2x1"
      },
      "outputs": [],
      "source": [
        "class block(nn.Module):\n",
        "  def __init__(self, in_channels, out_channels, stride=1, expansion=6, downsample=None):\n",
        "    super(block, self).__init__()\n",
        "    middle_channels = in_channels*expansion\n",
        "\n",
        "    # Residual Block\n",
        "    self.pass1 = nn.Sequential(\n",
        "        nn.Conv2d(in_channels, middle_channels, 1, stride=1, padding=0, bias=False), # pointwise\n",
        "        nn.BatchNorm2d(middle_channels),\n",
        "        nn.Mish(),\n",
        "        nn.Conv2d(middle_channels, middle_channels, 3, stride=stride, padding=1, bias=False), # normal 3x3 convolution\n",
        "        nn.BatchNorm2d(middle_channels),\n",
        "        nn.Mish(),\n",
        "        nn.Conv2d(middle_channels, out_channels, 1, stride=1, padding=0, bias=False), # pointwise\n",
        "        nn.BatchNorm2d(out_channels),\n",
        "        nn.Mish(),\n",
        "    )\n",
        "\n",
        "    # Inverted Residual Block \n",
        "    self.pass2 = nn.Sequential(\n",
        "        nn.Conv2d(in_channels, middle_channels, kernel_size=1, stride=1, padding=0, bias=False), # pointwise\n",
        "        nn.BatchNorm2d(middle_channels),\n",
        "        nn.Mish(),\n",
        "        nn.Conv2d(middle_channels, middle_channels, kernel_size=3, stride=stride, padding=1,groups=in_channels, bias=False), # depth-wise convolution\n",
        "        nn.BatchNorm2d(middle_channels),\n",
        "        nn.Mish(),\n",
        "        nn.Conv2d(middle_channels, out_channels, kernel_size=1, stride=1, bias=False), # pointwise\n",
        "        nn.BatchNorm2d(out_channels),\n",
        "        nn.Mish(),\n",
        "    )\n",
        "\n",
        "    self.downsample = downsample\n",
        "  \n",
        "  def forward(self, x):\n",
        "    identity = x.clone()\n",
        "    x1 = self.pass1(x)\n",
        "    x2 = self.pass2(x)\n",
        "    x = x1 + x2\n",
        "    if self.downsample is not None:\n",
        "      identity = self.downsample(identity)\n",
        "    x += identity\n",
        "    return x"
      ]
    },
    {
      "cell_type": "markdown",
      "metadata": {
        "id": "4NcpjyhLCBWI"
      },
      "source": [
        "**Main Architecture**\n",
        "\n",
        "Our implementation of the neural network builds upon this combined bottleneck and follows MobileNetV2’s architecture as its main structure. To simplify our implementation, we use the same number of intermediate channels for both passes and perform down sampling at the start of every block. Following the paper’s recommendation, we used an expansion rate of 6 for our intermediate channels within the blocks as recommended by (Sandler, Howard, Zhu, Zhmoginov, & Chen). We do not use dropout as experimental results show that it does not bring any major improvement in training accuracy while drastically increasing the training time and including it in all bottlenecks causes our network to fail to learn. Furthermore, after every convolution, we employ batch normalization and use Mish as our activation function.\n",
        "\n",
        "For Reference:\n",
        "\n",
        "```\n",
        "| Input        | Operator    | Repeats | Output | n_blocks | Stride |\n",
        "|--------------|-------------|---------|--------|----------|--------|\n",
        "| 224^2 x 3    | conv2d      | -       | 32     | 1        | 2      |\n",
        "| 112^2 x 32   | bottleneck  | 1       | 16     | 1        | 1      |\n",
        "| 112^2 x 16   | bottleneck  | 6       | 24     | 2        | 2      |\n",
        "| 56^2 x 24    | bottleneck  | 6       | 32     | 3        | 2      |\n",
        "| 28^2 x 32    | bottleneck  | 6       | 64     | 4        | 2      |\n",
        "| 14^2 x 64    | bottleneck  | 6       | 96     | 3        | 1      |\n",
        "| 14^2 x 96    | bottleneck  | 6       | 160    | 3        | 2      |\n",
        "| 7^2 x 160    | bottleneck  | 6       | 320    | 1        | 1      |\n",
        "| 7^2 x 320    | conv2d 1x1  | -       | 1280   | 1        | 1      |\n",
        "| 7^2 x 1280   | avgpool 7x7 | -       | -      | 1        | -      |\n",
        "| 1 x 1 x 1280 | conv2d 1x1  | -       | k      | -        |        |\n",
        "```"
      ]
    },
    {
      "cell_type": "code",
      "execution_count": null,
      "metadata": {
        "id": "pIohB93UB83T"
      },
      "outputs": [],
      "source": [
        "class Network(nn.Module):\n",
        "  def __init__(self, in_channels=3, num_classes=10):\n",
        "    super(Network, self).__init__()\n",
        "\n",
        "    # Structure follows MobileNetV2 block structure\n",
        "    self.conv1 = nn.Conv2d(in_channels, 32, kernel_size=7, stride=2, padding=3, bias=False)\n",
        "    self.bn1 = nn.BatchNorm2d(32)\n",
        "    self.mish = nn.Mish()\n",
        "\n",
        "    self.block1 = self._make_layer(block, 1, 32, 16, 1, 1)\n",
        "    self.block2 = self._make_layer(block, 6, 16, 24, 2, 2)\n",
        "    self.block3 = self._make_layer(block, 6, 24, 32, 3, 2)\n",
        "    self.block4 = self._make_layer(block, 6, 32, 64, 4, 2)\n",
        "    self.block5 = self._make_layer(block, 6, 64, 96, 3, 1)\n",
        "    self.block6 = self._make_layer(block, 6, 96, 160, 3, 2)\n",
        "    self.block7 = self._make_layer(block, 6, 160, 320, 1, 1)\n",
        "    \n",
        "    self.conv2 = nn.Conv2d(320,1280, kernel_size=3, stride=1, padding=1, bias=False)\n",
        "    self.bn2 = nn.BatchNorm2d(1280)\n",
        "    self.avgPool = nn.AvgPool2d(7)\n",
        "    self.flatten = nn.Flatten()\n",
        "    self.fc = nn.Linear(1280, num_classes)\n",
        "\n",
        "  def forward(self, x):\n",
        "    x = self.conv1(x)\n",
        "    x = self.bn1(x)\n",
        "    x = self.mish(x)\n",
        "    x = self.block1(x)\n",
        "    x = self.block2(x)\n",
        "    x = self.block3(x)\n",
        "    x = self.block4(x)\n",
        "    x = self.block5(x)\n",
        "    x = self.block6(x)\n",
        "    x = self.block7(x)\n",
        "    x = self.conv2(x)\n",
        "    x = self.bn2(x)\n",
        "    x = self.mish(x)\n",
        "    x = self.avgPool(x)\n",
        "    x = self.flatten(x)\n",
        "    x = self.fc(x)\n",
        "    x = F.log_softmax(x, dim=1)\n",
        "    \n",
        "    return x\n",
        "  \n",
        "  def _make_layer(self, block, expansion, in_channels, out_channels, repeats, stride):\n",
        "    layers = []\n",
        "    downsample = None\n",
        "\n",
        "    # We downsample when there is a mismatch between the dimensions of the input and output\n",
        "    if stride != 1 or in_channels != out_channels:\n",
        "      downsample = nn.Sequential(\n",
        "          nn.Conv2d(in_channels,out_channels,kernel_size=1,stride=stride, bias=False),\n",
        "          nn.BatchNorm2d(out_channels),\n",
        "      )\n",
        "\n",
        "    # Downsampling occurs only in the first block of each layer\n",
        "    layers.append(\n",
        "        block(in_channels, out_channels, stride, expansion, downsample)\n",
        "    )\n",
        "\n",
        "    # Append n-1 additional blocks to the layer\n",
        "    for _ in range(repeats-1):\n",
        "      layers.append(\n",
        "          block(out_channels, out_channels, 1, expansion)\n",
        "      )\n",
        "    \n",
        "    return nn.Sequential(*layers)\n",
        "\n",
        "\n",
        "model = Network()\n",
        "\n",
        "if load_path is not None:\n",
        "  model.load_state_dict(torch.load(load_path))"
      ]
    },
    {
      "cell_type": "markdown",
      "metadata": {
        "id": "xSNynAhFu2x2"
      },
      "source": [
        "## Main Training Loop\n",
        "\n",
        "For our main loop, to calculate loss we used Cross Entropy Loss and for our optimizer we found that using Adam with an initial learning rate of 0.00024 and weight decay of 0.00001 outperforms SGD as recommended by (He, Zhang, Ren, & Sun, 2015) since it allows our model to initially converge faster. We used a mini-batch size of 32 as experimentation between 32, 64, 96, and 128 shows that while the time taken to train each epoch is inversely proportional to the batch size, it also causes our model to overfit earlier. Tests were also conducted to see if applying a learning rate scheduler improved our accuracy and we settled on using a cosine annealing schedule with T_max set to 10."
      ]
    },
    {
      "cell_type": "code",
      "execution_count": 7,
      "metadata": {
        "id": "lI8I5GzNu2x3"
      },
      "outputs": [],
      "source": [
        "from torch.autograd import Variable\n",
        "from torch.optim import Adam, SGD, lr_scheduler\n",
        "\n",
        "# Function to save the model\n",
        "def saveModel():\n",
        "    torch.save(model.state_dict(), path)\n",
        "\n",
        "# Function to test the model with the test dataset and print the accuracy for the test images\n",
        "def testAccuracy(device):\n",
        "    model.eval()\n",
        "    accuracy = 0.0\n",
        "    total = 0.0\n",
        "\n",
        "    running_loss = 0.0\n",
        "    running_corrects = 0\n",
        "    \n",
        "    with torch.no_grad():\n",
        "        for data in test_loader:\n",
        "            images, labels = data\n",
        "            images = Variable(images.to(device))\n",
        "            labels = Variable(labels.to(device))\n",
        "\n",
        "            # run the model on the test set to predict labels\n",
        "            outputs = model(images)\n",
        "\n",
        "            # the label with the highest energy will be our prediction\n",
        "            _, predicted = torch.max(outputs.data, 1)\n",
        "            total += labels.size(0)\n",
        "            accuracy += (predicted == labels).sum().item()\n",
        "\n",
        "    # compute the accuracy over all validation images\n",
        "    accuracy = (100 * accuracy / total)\n",
        "    return(accuracy)\n",
        "\n",
        "def trainAccuracy(device):\n",
        "\n",
        "    model.eval()\n",
        "    accuracy = 0.0\n",
        "    total = 0.0\n",
        "    \n",
        "    with torch.no_grad():\n",
        "        for data in train_loader:\n",
        "            images, labels = data\n",
        "            images = Variable(images.to(device))\n",
        "            labels = Variable(labels.to(device))\n",
        "\n",
        "            # run the model on the test set to predict labels\n",
        "            outputs = model(images)\n",
        "\n",
        "            # the label with the highest energy will be our prediction\n",
        "            _, predicted = torch.max(outputs.data, 1)\n",
        "            total += labels.size(0)\n",
        "            accuracy += (predicted == labels).sum().item()\n",
        "    \n",
        "    # compute the accuracy over all training images\n",
        "    accuracy = (100 * accuracy / total)\n",
        "    return(accuracy)\n",
        "\n",
        "def train(num_epochs):\n",
        "    \n",
        "    best_accuracy = 0.0\n",
        "\n",
        "    # Define your execution device\n",
        "    device = torch.device(\"cuda:0\" if torch.cuda.is_available() else \"cpu\")\n",
        "    print(\"The model will be running on\", device, \"device\")\n",
        "    \n",
        "    # Stores and generates plots\n",
        "    liveloss = PlotLosses()\n",
        "\n",
        "    # Convert model parameters and buffers to CPU or Cuda\n",
        "    model.to(device)\n",
        "    model.train()\n",
        "\n",
        "    # Define the loss function with Classification Cross-Entropy loss and an optimizer with Adam optimizer\n",
        "    loss_fn = nn.CrossEntropyLoss()\n",
        "    optimizer = Adam(model.parameters(), lr=0.00024, weight_decay = 0.00001)\n",
        "    scheduler = lr_scheduler.CosineAnnealingLR(optimizer, T_max=10, eta_min=0)\n",
        "    all_accuracy = []\n",
        "\n",
        "    for epoch in range(num_epochs):  # loop over the dataset multiple times\n",
        "        running_loss = 0.0\n",
        "        \n",
        "        r_loss = 0.0\n",
        "        r_correct = 0\n",
        "\n",
        "        model.train()\n",
        "        logs = {}\n",
        "        for i, (images, labels) in enumerate(train_loader, 0):\n",
        "            # get the inputs\n",
        "            images = Variable(images.to(device))\n",
        "            labels = Variable(labels.to(device))\n",
        "\n",
        "            # zero the parameter gradients\n",
        "            optimizer.zero_grad()\n",
        "            # predict classes using images from the training set\n",
        "            outputs = model(images)\n",
        "            # compute the loss based on model output and real labels\n",
        "            loss = loss_fn(outputs, labels)\n",
        "            # backpropagate the loss\n",
        "            loss.backward()\n",
        "            # adjust parameters based on the calculated gradients\n",
        "            optimizer.step()\n",
        "\n",
        "            running_loss += loss.item()     # extract the loss value\n",
        "            r_loss += loss.detach() * images.size(0)\n",
        "\n",
        "            # Print loss statistics every 10 batches\n",
        "            if i % 10 == 10: # 10 means off\n",
        "                print('[%d, %5d] loss: %.8f' %\n",
        "                      (epoch + 1, i + 1, running_loss / 1000))\n",
        "                # zero the loss\n",
        "                running_loss = 0.0\n",
        "\n",
        "        # Compute and print the average accuracy for this epoch when tested over all test images\n",
        "        model.eval()\n",
        "        accuracy = testAccuracy(device)\n",
        "        train_accuracy = trainAccuracy(device)\n",
        "        all_accuracy.append(accuracy)\n",
        "\n",
        "        # Update the table\n",
        "        logs['log loss'] = (r_loss / 9469).item()\n",
        "        logs['val_'+ 'accuracy'] = accuracy\n",
        "        logs['accuracy'] =  train_accuracy\n",
        "\n",
        "        liveloss.update(logs)\n",
        "        liveloss.send()\n",
        "\n",
        "        print('For epoch', epoch+1,'the train accuracy is %d %%' % (train_accuracy), 'the test accuracy over the whole test set is %d %%' % (accuracy))\n",
        "        \n",
        "        # Saves the model if the accuracy is the better than the current\n",
        "        if accuracy > best_accuracy:\n",
        "            saveModel()\n",
        "            best_accuracy = accuracy\n",
        "\n",
        "        # Iterate the scheduler\n",
        "        scheduler.step()\n",
        "\n",
        "    print('The average accuracy over %d' % num_epochs, ' runs is %.2f' % (sum(all_accuracy)/num_epochs))"
      ]
    },
    {
      "cell_type": "markdown",
      "metadata": {
        "id": "EZXKn5Vau2x4"
      },
      "source": [
        "### Showing Images"
      ]
    },
    {
      "cell_type": "code",
      "execution_count": 8,
      "metadata": {
        "id": "Jhu6-ZnBu2x5"
      },
      "outputs": [],
      "source": [
        "# Function to show the images\n",
        "def imageshow(img):\n",
        "    img = img / 2 + 0.5     # unnormalize\n",
        "    if torch.cuda.is_available():\n",
        "      npimg = img.cpu().numpy()\n",
        "    else:\n",
        "      npimg = img.numpy()\n",
        "    plt.imshow(np.transpose(npimg, (1, 2, 0)))\n",
        "    plt.show()"
      ]
    },
    {
      "cell_type": "code",
      "execution_count": 9,
      "metadata": {
        "id": "OpCcP0yCu2x5"
      },
      "outputs": [],
      "source": [
        "def checkTransformedImages():\n",
        "    # get batch of images from the test DataLoader\n",
        "    images, labels = next(iter(test_loader))\n",
        "    if torch.cuda.is_available():\n",
        "      images = images.cuda()\n",
        "      labels = labels.cuda()\n",
        "\n",
        "    # show all images as one image grid\n",
        "    imageshow(torchvision.utils.make_grid(images))"
      ]
    },
    {
      "cell_type": "markdown",
      "metadata": {
        "id": "opk11Quiu2x6"
      },
      "source": [
        "## Results\n",
        "\n",
        "Running the network, we can view its results in the cell output below."
      ]
    },
    {
      "cell_type": "code",
      "execution_count": null,
      "metadata": {
        "colab": {
          "base_uri": "https://localhost:8080/",
          "height": 646
        },
        "id": "xzGEHXM6u2x6",
        "outputId": "eb78c552-e297-41f8-b3db-cd0d51c41f8e"
      },
      "outputs": [
        {
          "data": {
            "image/png": "[encoded data removed]",
            "text/plain": [
              "<Figure size 864x576 with 2 Axes>"
            ]
          },
          "metadata": {
            "needs_background": "light"
          },
          "output_type": "display_data"
        },
        {
          "name": "stdout",
          "output_type": "stream",
          "text": [
            "accuracy\n",
            "\tvalidation       \t (min:   46.293, max:   87.083, cur:   83.261)\n",
            "\ttraining         \t (min:   46.552, max:   91.594, cur:   88.605)\n",
            "log loss\n",
            "\tlog loss         \t (min:    0.327, max:    1.778, cur:    0.399)\n",
            "For epoch 44 the train accuracy is 88 % the test accuracy over the whole test set is 83 %\n"
          ]
        }
      ],
      "source": [
        "train_loader, test_loader = load_data()\n",
        "\n",
        "num_epochs = 120\n",
        "train(num_epochs)\n",
        "\n",
        "# checkTransformedImages()"
      ]
    },
    {
      "cell_type": "markdown",
      "metadata": {
        "id": "kXPMdBhsGdxc"
      },
      "source": [
        "## Class accuracy\n",
        "\n",
        "Calculate the class accuracy of our best model. The function comes from [here](https://pytorch.org/tutorials/beginner/blitz/cifar10_tutorial.html)."
      ]
    },
    {
      "cell_type": "code",
      "execution_count": null,
      "metadata": {
        "id": "AnfuilM5PJzN"
      },
      "outputs": [],
      "source": [
        "def class_accuracy():\n",
        "  # load the best model\n",
        "  model.load_state_dict(torch.load(path))\n",
        "\n",
        "  train_loader, test_loader = load_data()\n",
        "  device = torch.device(\"cuda:0\" if torch.cuda.is_available() else \"cpu\")\n",
        "  model.to(device)\n",
        "  model.eval()\n",
        "  # prepare to count predictions for each class\n",
        "  correct_pred = {classname: 0 for classname in classes}\n",
        "  total_pred = {classname: 0 for classname in classes}\n",
        "\n",
        "  # again no gradients needed\n",
        "  with torch.no_grad():\n",
        "      for data in test_loader:\n",
        "          images, labels = data\n",
        "          images = Variable(images.to(device))\n",
        "          labels = Variable(labels.to(device))\n",
        "          outputs = model(images)\n",
        "          _, predictions = torch.max(outputs, 1)\n",
        "          # collect the correct predictions for each class\n",
        "          for label, prediction in zip(labels, predictions):\n",
        "              if label == prediction:\n",
        "                  correct_pred[classes[label]] += 1\n",
        "              total_pred[classes[label]] += 1\n",
        "\n",
        "\n",
        "  # print accuracy for each class\n",
        "  for classname, correct_count in correct_pred.items():\n",
        "      accuracy = 100 * float(correct_count) / total_pred[classname]\n",
        "      print(f'Accuracy for class: {classname:5s} is {accuracy:.1f} %')\n",
        "\n",
        "class_accuracy()"
      ]
    },
    {
      "cell_type": "markdown",
      "metadata": {
        "id": "9A8Ajq1vJYu3"
      },
      "source": [
        "## Results\n",
        "\n",
        "_Caspar you're fleshing this section out_"
      ]
    },
    {
      "cell_type": "markdown",
      "metadata": {
        "id": "ADHw3xVKKCE8"
      },
      "source": [
        "## Discussion\n",
        "\n",
        "_This would also be part of your section in the report, Caspar_"
      ]
    },
    {
      "cell_type": "markdown",
      "metadata": {
        "id": "N4vq2u3FKVB7"
      },
      "source": [
        "## Conclusion\n",
        "\n",
        "_Fengyi or someone else write this as well_"
      ]
    },
    {
      "cell_type": "markdown",
      "metadata": {
        "id": "8l5AnyrjLdA3"
      },
      "source": [
        "## Bibliography\n",
        "\n",
        "blah"
      ]
    },
    {
      "cell_type": "markdown",
      "metadata": {
        "id": "md6uZCI6Lg4z"
      },
      "source": [
        "## Appendix"
      ]
    }
  ],
  "metadata": {
    "accelerator": "GPU",
    "colab": {
      "collapsed_sections": [],
      "name": "main_loop.ipynb",
      "provenance": []
    },
    "gpuClass": "standard",
    "kernelspec": {
      "display_name": "Python 3.10.1 ('venv': venv)",
      "language": "python",
      "name": "python3"
    },
    "language_info": {
      "name": "python",
      "version": "3.10.1"
    },
    "orig_nbformat": 4,
    "vscode": {
      "interpreter": {
        "hash": "0d53ec6266a26bc8bdfb2a6f99d7ada5f09e50f34a6a9bd31567b89d722776c4"
      }
    }
  },
  "nbformat": 4,
  "nbformat_minor": 0
}
