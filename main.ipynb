{
  "cells": [
    {
      "cell_type": "markdown",
      "metadata": {
        "id": "PPZTYzQee5ej"
      },
      "source": [
        "Imports"
      ]
    },
    {
      "cell_type": "markdown",
      "metadata": {
        "id": "OweNJQ3de5em"
      },
      "source": [
        "Wait why is there a car n02979186_603 in n02979186."
      ]
    },
    {
      "cell_type": "code",
      "execution_count": 1,
      "metadata": {
        "id": "n8Yld3xqe5en"
      },
      "outputs": [],
      "source": [
        "import torch\n",
        "import torch.nn as nn\n",
        "\n",
        "from torch.autograd import Variable\n",
        "import torchvision\n",
        "import torchvision.transforms as transforms\n",
        "import os\n",
        "import matplotlib.pyplot as plt\n",
        "import numpy as np\n",
        "import time"
      ]
    },
    {
      "cell_type": "code",
      "execution_count": 2,
      "metadata": {
        "colab": {
          "base_uri": "https://localhost:8080/"
        },
        "id": "21UNSo58e5eo",
        "outputId": "a1b039d3-12ef-49d2-cb02-a33c848b9deb"
      },
      "outputs": [
        {
          "output_type": "stream",
          "name": "stdout",
          "text": [
            "cuda\n"
          ]
        }
      ],
      "source": [
        "device = torch.device('cuda' if torch.cuda.is_available() else 'cpu')\n",
        "print(device)"
      ]
    },
    {
      "cell_type": "code",
      "source": [
        "from fastai.vision.all import *\n",
        "set_seed(42,reproducible=True)\n",
        "source = untar_data(URLs.IMAGENETTE)"
      ],
      "metadata": {
        "id": "g-_FJ2NBfIig",
        "colab": {
          "base_uri": "https://localhost:8080/",
          "height": 37
        },
        "outputId": "37c7bbb3-14d4-4d51-ff79-38847817293d"
      },
      "execution_count": 3,
      "outputs": [
        {
          "output_type": "display_data",
          "data": {
            "text/plain": [
              "<IPython.core.display.HTML object>"
            ],
            "text/html": [
              "\n",
              "<style>\n",
              "    /* Turns off some styling */\n",
              "    progress {\n",
              "        /* gets rid of default border in Firefox and Opera. */\n",
              "        border: none;\n",
              "        /* Needs to be in here for Safari polyfill so background images work as expected. */\n",
              "        background-size: auto;\n",
              "    }\n",
              "    .progress-bar-interrupted, .progress-bar-interrupted::-webkit-progress-bar {\n",
              "        background: #F44336;\n",
              "    }\n",
              "</style>\n"
            ]
          },
          "metadata": {}
        },
        {
          "output_type": "display_data",
          "data": {
            "text/plain": [
              "<IPython.core.display.HTML object>"
            ],
            "text/html": [
              "\n",
              "    <div>\n",
              "      <progress value='1557168128' class='' max='1557161267' style='width:300px; height:20px; vertical-align: middle;'></progress>\n",
              "      100.00% [1557168128/1557161267 00:34<00:00]\n",
              "    </div>\n",
              "    "
            ]
          },
          "metadata": {}
        }
      ]
    },
    {
      "cell_type": "code",
      "execution_count": 4,
      "metadata": {
        "id": "qRntLOAVe5ep"
      },
      "outputs": [],
      "source": [
        "# train_dataset_path = './imagenette2/train'\n",
        "# val_dataset_path = './imagenette2/val'\n",
        "train_dataset_path = source/'train'\n",
        "val_dataset_path = source/'val'\n",
        "\n",
        "img_height = 224\n",
        "img_width = 224\n",
        "input_size = img_height * img_width \n",
        "\n",
        "# # 256x256\n",
        "# mean = [0.4625, 0.4580, 0.4295]\n",
        "# std = [0.2362, 0.2298, 0.2383]\n",
        "\n",
        "# calculated in mean_and_std_calc 224x224\n",
        "mean = [0.4625, 0.4580, 0.4295]\n",
        "std = [0.2351, 0.2287, 0.2372]"
      ]
    },
    {
      "cell_type": "code",
      "execution_count": 5,
      "metadata": {
        "id": "nQSbM7eVe5ep"
      },
      "outputs": [],
      "source": [
        "train_transforms = transforms.Compose([\n",
        "  # transforms.Resize((img_height, img_width)),\n",
        "  transforms.RandomHorizontalFlip(),\n",
        "  transforms.RandomRotation(10),\n",
        "  transforms.RandomResizedCrop(224),\n",
        "  transforms.ToTensor(),\n",
        "  transforms.Normalize(torch.Tensor(mean), torch.Tensor(std))\n",
        "])\n",
        "# consider including scale and aspect ratio, randomCrop,  randomPerspective, randomErase\n",
        "\n",
        "val_transforms = transforms.Compose([\n",
        "  transforms.Resize((img_height, img_width)),\n",
        "  transforms.ToTensor(),\n",
        "  transforms.Normalize(torch.Tensor(mean), torch.Tensor(std))\n",
        "])"
      ]
    },
    {
      "cell_type": "markdown",
      "metadata": {
        "id": "BpsmU3pce5eq"
      },
      "source": [
        "Hyperparameters"
      ]
    },
    {
      "cell_type": "code",
      "execution_count": 6,
      "metadata": {
        "id": "emBpRDD6e5eq"
      },
      "outputs": [],
      "source": [
        "batch_size=64\n",
        "learning_rate=0.001 #  check out learning  rate decay"
      ]
    },
    {
      "cell_type": "markdown",
      "metadata": {
        "id": "hyY5DP_Pe5er"
      },
      "source": [
        "Load in data"
      ]
    },
    {
      "cell_type": "code",
      "execution_count": 7,
      "metadata": {
        "id": "-tGj5oI1e5er"
      },
      "outputs": [],
      "source": [
        "train_dataset = torchvision.datasets.ImageFolder(root=train_dataset_path, transform=train_transforms)\n",
        "val_dataset = torchvision.datasets.ImageFolder(root=val_dataset_path, transform = val_transforms)"
      ]
    },
    {
      "cell_type": "code",
      "execution_count": 8,
      "metadata": {
        "id": "djVbuchMe5es"
      },
      "outputs": [],
      "source": [
        "train_loader = torch.utils.data.DataLoader(train_dataset, batch_size, shuffle=True)\n",
        "test_loader = torch.utils.data.DataLoader(val_dataset, batch_size, shuffle=False)"
      ]
    },
    {
      "cell_type": "code",
      "execution_count": 9,
      "metadata": {
        "id": "1LmyfM5-e5es"
      },
      "outputs": [],
      "source": [
        "class Block(nn.Module):\n",
        "  def __init__(self, input_nodes, intermediate_nodes, downsample):\n",
        "    super(Block, self).__init__()\n",
        "    self.conv1 = nn.Conv2d(input_nodes, intermediate_nodes, kernel_size=3, stride=1, padding=1)\n",
        "    self.bn1 = nn.BatchNorm2d(intermediate_nodes)\n",
        "    self.conv2 = nn.Conv2d(intermediate_nodes, intermediate_nodes, kernel_size=3, stride=1, padding=1)\n",
        "    self.bn2 = nn.BatchNorm2d(intermediate_nodes)\n",
        "    self.relu = nn.ReLU()\n",
        "    self.downsample = downsample\n",
        "\n",
        "  def forward(self, input):\n",
        "    original = input.clone()\n",
        "    x = self.conv1(input)\n",
        "    x = self.bn1(x)\n",
        "    x = self.relu(x)\n",
        "    x = self.conv2(x)\n",
        "    x = self.bn2(x)\n",
        "    x = self.relu(x)\n",
        "    if self.downsample is not None:\n",
        "      original = self.downsample(original)\n",
        "    x += original\n",
        "    x = self.relu(x)\n",
        "    return x\n",
        "\n",
        "class Model(nn.Module):\n",
        "  def __init__(self, num_features=3, num_classes=10, num_hidden1=64, num_hidden2=128, num_hidden3=256, num_hidden4=512, dropout_prob=0.2):\n",
        "    super(Model, self).__init__()\n",
        "    self.num_hidden1 = num_hidden1\n",
        "    self.initial_split = nn.Conv2d(3, 64, 7, stride=2, padding=1)\n",
        "    self.maxPool1 = nn.MaxPool2d(3,stride=2)\n",
        "\n",
        "    self.softmax = nn.Softmax(dim=1)\n",
        "\n",
        "  def forward(self, input):\n",
        "    x = self.initial_split(input)\n",
        "    x = self.layer1(x)\n",
        "    x = self.layer2(x)\n",
        "    x = self.layer3(x)\n",
        "    x = self.layer4(x)\n",
        "    x = x.reshape(x.shape[0], -1)\n",
        "    x = self.fcnn(x)\n",
        "    x = self.softmax(x)\n",
        "    return x"
      ]
    },
    {
      "cell_type": "code",
      "source": [
        "class Block2(nn.Module):\n",
        "  def __init__(self, in_channels, mid_channels):\n",
        "    super(Block2, self).__init__()\n",
        "    # split into 2 branches\n",
        "    self.conv11 = nn.Conv2d(in_channels,mid_channels*4, 1, stride=2, padding=0, bias=False) # b1: stride downsample\n",
        "    self.bn11 = nn.BatchNorm2d(mid_channels*4)\n",
        "    self.conv12 = nn.Conv2d(in_channels, mid_channels, 3, stride=1, padding=1, bias=False) # b2: normal convolution\n",
        "    self.bn12 = nn.BatchNorm2d(mid_channels)\n",
        "\n",
        "    self.conv21 = nn.Conv2d(mid_channels*4, mid_channels*4, 3, stride=1, padding=1, bias=False) # b1: perform convolution on downsampled\n",
        "    self.bn21 = nn.BatchNorm2d(mid_channels*4)\n",
        "    self.conv22 = nn.Conv2d(mid_channels, mid_channels, 3, stride=1, padding=1, bias=False) # b2: perform second normal convolution\n",
        "    self.bn22 = nn.BatchNorm2d(mid_channels)\n",
        "\n",
        "    self.conv32 = nn.Conv2d(mid_channels, mid_channels*4, 3, stride=1, padding=1, bias=False) # b2: increase channels to match b1\n",
        "    self.bn32 = nn.BatchNorm2d(mid_channels*4)\n",
        "    self.maxPool42 = nn.MaxPool2d(2)\n",
        "\n",
        "    self.relu = nn.ReLU()\n",
        "    pass\n",
        "  \n",
        "  def forward(self, input):\n",
        "    \"\"\"\n",
        "    layer 1 64 x 56x56\n",
        "    \n",
        "    traverse it \n",
        "\n",
        "    create a 26*26 final image\n",
        "    \"\"\"\n",
        "    x = self.conv11(input)\n",
        "    x = self.bn11(x)\n",
        "    x = self.relu(x)\n",
        "    x = self.conv21(x)\n",
        "    x = self.bn21(x)\n",
        "    x = self.relu(x)\n",
        "\n",
        "    y = self.conv12(input)\n",
        "    y = self.bn12(y)\n",
        "    y = self.relu(y)\n",
        "    y = self.conv22(y)\n",
        "    y = self.bn22(y)\n",
        "    y = self.conv32(y)\n",
        "    y = self.bn32(y)\n",
        "    y = self.relu(y)\n",
        "    y = self.maxPool42(y)\n",
        "    combined = x+y\n",
        "    combined = self.relu(combined)\n",
        "    return combined\n",
        "\n",
        "class Model2(nn.Module):\n",
        "  def __init__(self, in_channels=3, num_classes=10):\n",
        "    super(Model2, self).__init__()\n",
        "    self.conv1 = nn.Conv2d(in_channels, 64, kernel_size=7, stride=2, padding=3, bias=False)\n",
        "    self.bn1 = nn.BatchNorm2d(64)\n",
        "    self.relu = nn.ReLU()\n",
        "    self.maxpool = nn.MaxPool2d(kernel_size=3, stride=2, padding=1)\n",
        "\n",
        "    self.layer1 = Block2(64, 32)\n",
        "    self.layer2 = Block2(128,64)\n",
        "    self.layer3 = Block2(256,128)\n",
        "    self.fcnn = nn.Linear(7*7, num_classes)\n",
        "    self.avgpool = nn.AdaptiveAvgPool2d((1, 1))\n",
        "    self.flatten = nn.Flatten()\n",
        "    self.fc = nn.Linear(512, num_classes)\n",
        "\n",
        "  def forward(self, x):\n",
        "    x = self.conv1(x)\n",
        "    x = self.bn1(x)\n",
        "    x = self.relu(x)\n",
        "    x = self.maxpool(x)\n",
        "\n",
        "    x = self.layer1(x)\n",
        "    x = self.layer2(x)\n",
        "    x = self.layer3(x)\n",
        "    # x = self.layer4(x)\n",
        "    x = self.avgpool(x)\n",
        "    x = self.flatten(x)\n",
        "    \n",
        "    x = self.fc(x)\n",
        "    # softmax this\n",
        "    return x"
      ],
      "metadata": {
        "id": "swNrISuBsNDI"
      },
      "execution_count": 10,
      "outputs": []
    },
    {
      "cell_type": "code",
      "source": [
        "#@title ResNet: Not own code (20 epochs, % training, 17% testing)\n",
        "\n",
        "class block(nn.Module):\n",
        "    def __init__(\n",
        "        self, in_channels, intermediate_channels, identity_downsample=None, stride=1\n",
        "    ):\n",
        "        super(block, self).__init__()\n",
        "        self.expansion = 4\n",
        "        self.conv1 = nn.Conv2d(\n",
        "            in_channels, intermediate_channels, kernel_size=1, stride=1, padding=0, bias=False\n",
        "        ) # [_, int_channels, x,y]\n",
        "        self.bn1 = nn.BatchNorm2d(intermediate_channels)\n",
        "        self.conv2 = nn.Conv2d(\n",
        "            intermediate_channels,\n",
        "            intermediate_channels,\n",
        "            kernel_size=3,\n",
        "            stride=stride,\n",
        "            padding=1,\n",
        "            bias=False\n",
        "        ) # [_, int_channels, x,y]\n",
        "        self.bn2 = nn.BatchNorm2d(intermediate_channels)\n",
        "        self.conv3 = nn.Conv2d(\n",
        "            intermediate_channels,\n",
        "            intermediate_channels * self.expansion,\n",
        "            kernel_size=1,\n",
        "            stride=1,\n",
        "            padding=0,\n",
        "            bias=False\n",
        "        ) # [_, int_channels*4, x, y]\n",
        "        self.bn3 = nn.BatchNorm2d(intermediate_channels * self.expansion)\n",
        "        self.relu = nn.ReLU()\n",
        "        self.identity_downsample = identity_downsample\n",
        "        self.stride = stride\n",
        "\n",
        "    def forward(self, x):\n",
        "        identity = x.clone()\n",
        "\n",
        "        x = self.conv1(x)\n",
        "        x = self.bn1(x)\n",
        "        x = self.relu(x)\n",
        "        x = self.conv2(x)\n",
        "        x = self.bn2(x)\n",
        "        x = self.relu(x)\n",
        "        x = self.conv3(x)\n",
        "        x = self.bn3(x)\n",
        "\n",
        "        if self.identity_downsample is not None:\n",
        "            identity = self.identity_downsample(identity)\n",
        "\n",
        "        x += identity\n",
        "        x = self.relu(x)\n",
        "        return x\n",
        "\n",
        "\n",
        "class ResNet(nn.Module):\n",
        "    def __init__(self, block, layers, image_channels, num_classes):\n",
        "        super(ResNet, self).__init__()\n",
        "        self.in_channels = 64\n",
        "        self.conv1 = nn.Conv2d(image_channels, 64, kernel_size=7, stride=2, padding=3, bias=False)\n",
        "        self.bn1 = nn.BatchNorm2d(64)\n",
        "        self.relu = nn.ReLU()\n",
        "        self.maxpool = nn.MaxPool2d(kernel_size=3, stride=2, padding=1)\n",
        "\n",
        "        # Essentially the entire ResNet architecture are in these 4 lines below\n",
        "        self.layer1 = self._make_layer(\n",
        "            block, layers[0], intermediate_channels=64, stride=1\n",
        "        )\n",
        "        self.layer2 = self._make_layer(\n",
        "            block, layers[1], intermediate_channels=128, stride=2\n",
        "        )\n",
        "        self.layer3 = self._make_layer(\n",
        "            block, layers[2], intermediate_channels=256, stride=2\n",
        "        )\n",
        "        self.layer4 = self._make_layer(\n",
        "            block, layers[3], intermediate_channels=512, stride=2\n",
        "        )\n",
        "\n",
        "        self.avgpool = nn.AdaptiveAvgPool2d((1, 1))\n",
        "        self.fc = nn.Linear(512 * 4, num_classes)\n",
        "\n",
        "    def forward(self, x):\n",
        "        x = self.conv1(x)\n",
        "        x = self.bn1(x)\n",
        "        x = self.relu(x)\n",
        "        x = self.maxpool(x)\n",
        "        x = self.layer1(x)\n",
        "        x = self.layer2(x)\n",
        "        x = self.layer3(x)\n",
        "        x = self.layer4(x)\n",
        "\n",
        "        x = self.avgpool(x)\n",
        "        x = x.reshape(x.shape[0], -1)\n",
        "        x = self.fc(x)\n",
        "\n",
        "        return x\n",
        "\n",
        "    def _make_layer(self, block, num_residual_blocks, intermediate_channels, stride):\n",
        "        identity_downsample = None\n",
        "        layers = []\n",
        "\n",
        "        # Either if we half the input space for ex, 56x56 -> 28x28 (stride=2), or channels changes\n",
        "        # we need to adapt the Identity (skip connection) so it will be able to be added\n",
        "        # to the layer that's ahead\n",
        "        if stride != 1 or self.in_channels != intermediate_channels * 4:\n",
        "            identity_downsample = nn.Sequential(\n",
        "                nn.Conv2d(\n",
        "                    self.in_channels,\n",
        "                    intermediate_channels * 4,\n",
        "                    kernel_size=1,\n",
        "                    stride=stride,\n",
        "                    bias=False\n",
        "                ),\n",
        "                nn.BatchNorm2d(intermediate_channels * 4),\n",
        "            )\n",
        "\n",
        "        layers.append(\n",
        "            block(self.in_channels, intermediate_channels, identity_downsample, stride)\n",
        "        )\n",
        "\n",
        "        # The expansion size is always 4 for ResNet 50,101,152\n",
        "        self.in_channels = intermediate_channels * 4\n",
        "\n",
        "        # For example for first resnet layer: 256 will be mapped to 64 as intermediate layer,\n",
        "        # then finally back to 256. Hence no identity downsample is needed, since stride = 1,\n",
        "        # and also same amount of channels.\n",
        "        for i in range(num_residual_blocks - 1):\n",
        "            layers.append(block(self.in_channels, intermediate_channels))\n",
        "\n",
        "        return nn.Sequential(*layers)"
      ],
      "metadata": {
        "id": "gwRAwfnH0CYG",
        "cellView": "form"
      },
      "execution_count": 11,
      "outputs": []
    },
    {
      "cell_type": "code",
      "execution_count": 12,
      "metadata": {
        "id": "Y0JWryCFe5et"
      },
      "outputs": [],
      "source": [
        "# model = ResNet(block, [3,4,6,3], image_channels=3, num_classes=10).to(device)\n",
        "model = Model2().to(device)"
      ]
    },
    {
      "cell_type": "markdown",
      "metadata": {
        "id": "qQ2mhUade5et"
      },
      "source": [
        "Loss Function"
      ]
    },
    {
      "cell_type": "code",
      "execution_count": 14,
      "metadata": {
        "id": "3u49vhYve5et"
      },
      "outputs": [],
      "source": [
        "criterion = torch.nn.CrossEntropyLoss()\n",
        "# optimiser = torch.optim.SGD(model.parameters(), lr=learning_rate, momentum=0.9, weight_decay=0.0001)\n",
        "optimiser = torch.optim.Adam(model.parameters(), lr=learning_rate, weight_decay=0.0001)"
      ]
    },
    {
      "cell_type": "markdown",
      "metadata": {
        "id": "lSuGV9W4e5eu"
      },
      "source": [
        "Training Loop"
      ]
    },
    {
      "cell_type": "code",
      "execution_count": null,
      "metadata": {
        "id": "IttRv6Tae5eu"
      },
      "outputs": [],
      "source": [
        "num_epochs = 20\n",
        "train_count = 9469\n",
        "test_count = 3925"
      ]
    },
    {
      "cell_type": "code",
      "execution_count": null,
      "metadata": {
        "id": "a6XT9dHue5eu"
      },
      "outputs": [],
      "source": [
        "best_accuracy = 0.\n",
        "loss_vctr = []\n",
        "start = time.time()\n",
        "\n",
        "for epoch in range(num_epochs):\n",
        "  model.train()\n",
        "  train_accuracy = 0.\n",
        "  train_loss = 0.\n",
        "\n",
        "  for i,(images,labels) in enumerate(train_loader):\n",
        "    if torch.cuda.is_available():\n",
        "      images = Variable(images.cuda())\n",
        "      labels = Variable(labels.cuda())\n",
        "    optimiser.zero_grad()\n",
        "    \n",
        "    outputs = model(images)\n",
        "    loss=criterion(outputs,labels)\n",
        "    loss.backward()\n",
        "    optimiser.step()\n",
        "\n",
        "    train_loss += loss.item()\n",
        "\n",
        "#     if i % 10 == 9:    # print every 2000 mini-batches\n",
        "#       loss_vctr.append(train_loss / 2000)\n",
        "#       print('[%d, %5d] loss: %.6f' %\n",
        "#             (epoch + 1, i + 1, train_loss / 2000))\n",
        "#       train_loss = 0.0\n",
        "# print(\"^^^^^^^^^^^^^^^^^\")\n",
        "# print('Finished Optimization.')\n",
        "# end = time.time() # Time counted in seconds\n",
        "# print(\"The total time to train the model on the K80 GPU is : {:.1f} minutes.\".format((end - start)/60))\n",
        "    \n",
        "    _,prediction = torch.max(outputs.data, 1)\n",
        "\n",
        "    train_accuracy += int(torch.sum(prediction==labels.data))\n",
        "\n",
        "  train_accuracy = train_accuracy / train_count\n",
        "  train_loss = train_loss / train_count\n",
        "\n",
        "  model.eval()\n",
        "\n",
        "  test_accuracy = 0.\n",
        "  for i, (images,labels) in enumerate(test_loader):\n",
        "    if torch.cuda.is_available():\n",
        "      images = Variable(images.cuda())\n",
        "      labels = Variable(labels.cuda())\n",
        "    outputs=model(images)\n",
        "    _,prediction=torch.max(outputs.data,1)\n",
        "    test_accuracy+=int(torch.sum(prediction==labels.data))\n",
        "    \n",
        "  test_accuracy=test_accuracy/test_count\n",
        "  \n",
        "  \n",
        "  print('Epoch: '+str(epoch)+' Train Loss: '+str(train_loss)+' Train Accuracy: '+str(train_accuracy)+' Test Accuracy: '+str(test_accuracy))\n",
        "  \n",
        "  #Save the best model\n",
        "  if test_accuracy>best_accuracy:\n",
        "      torch.save(model.state_dict(),'best_checkpoint.model')\n",
        "      best_accuracy=test_accuracy"
      ]
    },
    {
      "cell_type": "code",
      "source": [
        "correct = 0\n",
        "total = 0\n",
        "model.eval()\n",
        "for data in train_loader:\n",
        "        images, labels = data\n",
        "        images = Variable(images).cuda()\n",
        "        outputs = model(images)\n",
        "        _, predicted = torch.max(outputs.cpu().data, 1)\n",
        "        total += labels.size(0)\n",
        "        correct += (predicted == labels).sum()\n",
        "        \n",
        "print('Accuracy of the network on the training images: %d %%' % (\n",
        "    100 * correct / total))"
      ],
      "metadata": {
        "id": "_9Untk0ewzVU"
      },
      "execution_count": null,
      "outputs": []
    },
    {
      "cell_type": "code",
      "source": [
        "correct = 0\n",
        "total = 0\n",
        "\n",
        "for data in test_loader:\n",
        "        images, labels = data\n",
        "        images = Variable(images).cuda()\n",
        "        outputs = model(images)\n",
        "        _, predicted = torch.max(outputs.cpu().data, 1)\n",
        "        total += labels.size(0)\n",
        "        correct += (predicted == labels).sum()\n",
        "        \n",
        "print('Accuracy of the network on the test images: %d %%' % (\n",
        "    100 * correct / total))"
      ],
      "metadata": {
        "id": "fMq38QY6qKXy"
      },
      "execution_count": null,
      "outputs": []
    }
  ],
  "metadata": {
    "kernelspec": {
      "display_name": "Python 3.10.1 ('venv': venv)",
      "language": "python",
      "name": "python3"
    },
    "language_info": {
      "codemirror_mode": {
        "name": "ipython",
        "version": 3
      },
      "file_extension": ".py",
      "mimetype": "text/x-python",
      "name": "python",
      "nbconvert_exporter": "python",
      "pygments_lexer": "ipython3",
      "version": "3.10.1"
    },
    "orig_nbformat": 4,
    "vscode": {
      "interpreter": {
        "hash": "0d53ec6266a26bc8bdfb2a6f99d7ada5f09e50f34a6a9bd31567b89d722776c4"
      }
    },
    "colab": {
      "name": "main.ipynb",
      "provenance": [],
      "collapsed_sections": []
    },
    "accelerator": "GPU",
    "gpuClass": "standard"
  },
  "nbformat": 4,
  "nbformat_minor": 0
}