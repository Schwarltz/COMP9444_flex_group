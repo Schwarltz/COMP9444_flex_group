{
 "cells": [
  {
   "cell_type": "code",
   "execution_count": null,
   "metadata": {},
   "outputs": [],
   "source": [
    "import torch\n",
    "import torch.nn as nn"
   ]
  },
  {
   "cell_type": "code",
   "execution_count": null,
   "metadata": {},
   "outputs": [],
   "source": [
    "class Model(torch.nn.Module):\n",
    "    def __init__(self, in_channels=3, num_classes=10): # RGB and 10 categories\n",
    "        super(Model, self).__init__()\n",
    "        self.conv1 = nn.Conv2d(in_channels, out_channels=8, kernel_size=(3,3), stride=(1,1), padding=(1,1))\n",
    "        self.pool = nn.MaxPool2d(kernel_size=(2,2), stride=(2,2))\n",
    "        self.conv2 = nn.Conv2d(in_channels=8, out_channels=16, kernel_size=(3,3), stride=(1,1), padding=(1,1))\n",
    "        self.fc1 = nn.Linear(16,10)\n",
    "\n",
    "    def forward(self, input):\n",
    "        hid1_sum = self.in_to_hid(input)\n",
    "        self.hid1 = torch.tanh(hid1_sum)\n",
    "        hid2_sum = self.hid_to_hid(self.hid1)\n",
    "        self.hid2 = torch.tanh(hid2_sum)\n",
    "        out_sum = self.hid_to_out(self.hid2)\n",
    "        output = torch.sigmoid(out_sum)\n",
    "        return output\n"
   ]
  }
 ],
 "metadata": {
  "language_info": {
   "name": "python"
  },
  "orig_nbformat": 4
 },
 "nbformat": 4,
 "nbformat_minor": 2
}
