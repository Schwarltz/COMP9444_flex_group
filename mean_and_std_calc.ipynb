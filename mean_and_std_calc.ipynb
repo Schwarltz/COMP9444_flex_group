{
  "cells": [
    {
      "cell_type": "code",
      "execution_count": null,
      "metadata": {
        "colab": {
          "base_uri": "https://localhost:8080/",
          "height": 380
        },
        "id": "zmCkl2f1nHQv",
        "outputId": "eebf012c-fb63-4d53-e36c-de427f5e9e31"
      },
      "outputs": [],
      "source": [
        "import os\n",
        "import torch\n",
        "import torchvision\n",
        "import torchvision.transforms as transforms"
      ]
    },
    {
      "cell_type": "markdown",
      "metadata": {
        "id": "YAkQ-indnHQz"
      },
      "source": [
        "Consts"
      ]
    },
    {
      "cell_type": "code",
      "execution_count": null,
      "metadata": {
        "id": "CDucWGtXnHQ1"
      },
      "outputs": [],
      "source": [
        "from fastai.vision.all import *\n",
        "set_seed(42,reproducible=True)\n",
        "source = untar_data(URLs.IMAGENETTE)\n",
        "\n",
        "training_dataset_path = source/'train'\n",
        "img_height = 224\n",
        "img_width = 224"
      ]
    },
    {
      "cell_type": "code",
      "execution_count": null,
      "metadata": {
        "id": "jmK3cfinnHQ2"
      },
      "outputs": [],
      "source": [
        "training_transforms = transforms.Compose([\n",
        "  transforms.Resize((img_height,img_width)),\n",
        "  transforms.ToTensor(),\n",
        "])"
      ]
    },
    {
      "cell_type": "code",
      "execution_count": null,
      "metadata": {
        "id": "0p4tCtQOnHQ3"
      },
      "outputs": [],
      "source": [
        "train_dataset = torchvision.datasets.ImageFolder(root=training_dataset_path, transform=training_transforms)"
      ]
    },
    {
      "cell_type": "code",
      "execution_count": null,
      "metadata": {
        "id": "vbBWhNq9nHQ3"
      },
      "outputs": [],
      "source": [
        "train_loader = torch.utils.data.DataLoader(dataset=train_dataset, batch_size=32, shuffle=False)"
      ]
    },
    {
      "cell_type": "code",
      "execution_count": null,
      "metadata": {
        "id": "g07WxywGnHQ4"
      },
      "outputs": [],
      "source": [
        "def mean_std_calc(loader):\n",
        "  mean = 0.\n",
        "  std = 0.\n",
        "  total_img_count = 0\n",
        "  for images, _ in loader:\n",
        "    image_count_in_batch = images.size(0)\n",
        "    images = images.view(image_count_in_batch, images.size(1),-1)\n",
        "    mean += images.mean(2).sum(0)\n",
        "    std += images.std(2).sum(0)\n",
        "    total_img_count += image_count_in_batch\n",
        "\n",
        "    if total_img_count % 1024 == 0:\n",
        "      print(f'Read {total_img_count} images.')\n",
        "\n",
        "  mean /= total_img_count \n",
        "  std /= total_img_count\n",
        "  print(f'Read in total {total_img_count} images.')\n",
        "  return mean, std\n"
      ]
    },
    {
      "cell_type": "code",
      "execution_count": null,
      "metadata": {
        "colab": {
          "base_uri": "https://localhost:8080/"
        },
        "id": "z9x5_UP5nHQ5",
        "outputId": "06388372-f71c-4732-d3e4-180cf09db66d"
      },
      "outputs": [
        {
          "name": "stdout",
          "output_type": "stream",
          "text": [
            "Read 1024 images.\n",
            "Read 2048 images.\n",
            "Read 3072 images.\n",
            "Read 4096 images.\n",
            "Read 5120 images.\n",
            "Read 6144 images.\n",
            "Read 7168 images.\n",
            "Read 8192 images.\n",
            "Read 9216 images.\n",
            "Read in total 9469 images.\n",
            "(tensor([0.4625, 0.4580, 0.4295]), tensor([0.2351, 0.2287, 0.2372]))\n"
          ]
        }
      ],
      "source": [
        "print(mean_std_calc(train_loader))"
      ]
    }
  ],
  "metadata": {
    "colab": {
      "name": "mean_and_std_calc.ipynb",
      "provenance": []
    },
    "kernelspec": {
      "display_name": "Python 3.10.1 ('venv': venv)",
      "language": "python",
      "name": "python3"
    },
    "language_info": {
      "codemirror_mode": {
        "name": "ipython",
        "version": 3
      },
      "file_extension": ".py",
      "mimetype": "text/x-python",
      "name": "python",
      "nbconvert_exporter": "python",
      "pygments_lexer": "ipython3",
      "version": "3.10.1"
    },
    "orig_nbformat": 4,
    "vscode": {
      "interpreter": {
        "hash": "0d53ec6266a26bc8bdfb2a6f99d7ada5f09e50f34a6a9bd31567b89d722776c4"
      }
    }
  },
  "nbformat": 4,
  "nbformat_minor": 0
}
